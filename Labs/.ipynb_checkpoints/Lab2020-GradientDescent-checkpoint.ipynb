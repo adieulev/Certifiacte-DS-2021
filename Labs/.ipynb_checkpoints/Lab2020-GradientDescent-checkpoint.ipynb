{
 "cells": [
  {
   "cell_type": "markdown",
   "metadata": {},
   "source": [
    "# <font color=darkcyan>  Machine Learning in Python </font>\n",
    "\n",
    "### <font color=darkorange> Random forests, Gradient descent, Neural networks...</font>"
   ]
  },
  {
   "cell_type": "markdown",
   "metadata": {},
   "source": [
    "## 3. <font color=darkred> Gradient descent to estimate parameters </font>"
   ]
  },
  {
   "cell_type": "code",
   "execution_count": 35,
   "metadata": {
    "collapsed": true
   },
   "outputs": [],
   "source": [
    "# Required packages\n",
    "np.set_printoptions(precision=2) \n",
    "from numpy.random import multivariate_normal\n",
    "from scipy.linalg.special_matrices import toeplitz\n",
    "from numpy.random import randn\n",
    "from numpy.linalg import norm\n",
    "from scipy.optimize import check_grad\n",
    "import seaborn as sns"
   ]
  },
  {
   "cell_type": "markdown",
   "metadata": {},
   "source": [
    "### <font color=darkred>  Losses and gradients </font>\n",
    "\n",
    "The aim of this section is to detail how to solve the following optimization problem\n",
    "$$\n",
    "\\arg\\min_{w \\in \\mathbb R^d} \\Big\\{ f(w) + \\frac{\\lambda}{2} \\|w\\|_2^2 \\Big\\}\\,,\n",
    "$$\n",
    "where $d$ is the number of features and where $f$ is $L$-smooth. Two classical settings:\n",
    "\n",
    "**Linear regression**\n",
    "$$\n",
    "f: w \\mapsto \\frac 1n \\sum_{i=1}^n f_i(w) = \\frac{1}{2n} \\sum_{i=1}^n (y_i - x_i' w)^2 + \\frac{\\lambda}{2} \\|w\\|_2^2 = \\frac{1}{2 n} \\| y - X w \\|_2^2 + \\frac{\\lambda}{2} \\|w\\|_2^2\\,,\n",
    "$$\n",
    "where $n$ is the sample size, $y = (y_1, \\ldots, y_n)'\\in\\mathbb{R}^n$ and $X$ is the matrix of features with lines containing the features vectors $x_i \\in \\mathbb R^d$.\n",
    "\n",
    "**Logistic regression**\n",
    "$$\n",
    "f: w \\mapsto \\frac 1n \\sum_{i=1}^n f_i(w) = \\frac{1}{n} \\sum_{i=1}^n \\log(1 + \\exp(-y_i x_i' w)) + \\frac{\\lambda}{2} \\|w\\|_2^2\\,,\n",
    "$$\n",
    "where $n$ is the sample size, and where $y_i \\in \\{ -1, 1 \\}$ for all $1\\leqslant i\\leqslant n$.\n",
    " \n",
    "Gradient descent algorithms require to compute $f(w)$, $\\nabla f(w)$, $\\nabla f_i(w)$ for stochastic gradient descent methods and $\\partial_j \\,f(w)$ for coordinate descent."
   ]
  },
  {
   "cell_type": "code",
   "execution_count": 36,
   "metadata": {
    "collapsed": true
   },
   "outputs": [],
   "source": [
    "def sigmoid(t):\n",
    "    idx       = t > 0\n",
    "    out       = np.empty(t.size)    \n",
    "    out[idx]  = 1 / (1. + np.exp(-t[idx]))\n",
    "    exp_t     = np.exp(t[~idx])\n",
    "    out[~idx] = exp_t / (1. + exp_t)\n",
    "    return out\n",
    "\n",
    "def simu_logreg(w0, n_samples=1000, corr=0.5):\n",
    "    # w0 : `numpy.array`, shape=(n_features,), parameters to be estimated\n",
    "    # n_samples : `int`, default=1000, number of samples to simulate\n",
    "    # corr : `float`, default=0.5, correlation of the features\n",
    "\n",
    "    # Returns\n",
    "    # X : `numpy.ndarray`, shape=(n_samples, n_features), simulated features matrix. \n",
    "    # Contains samples of a centered Gaussian vector with Toeplitz covariance.\n",
    "    # y : `numpy.array`, shape=(n_samples,), simulated labels\n",
    "\n",
    "    n_features = w0.shape[0]\n",
    "    cov        = toeplitz(corr ** np.arange(0, n_features))\n",
    "    X          = multivariate_normal(np.zeros(n_features), cov, size=n_samples)\n",
    "    p          = sigmoid(X.dot(w0))\n",
    "    y          = np.random.binomial(1, p, size=n_samples)\n",
    "    y[:]       = 2 * y - 1\n",
    "    return X, y"
   ]
  },
  {
   "cell_type": "code",
   "execution_count": 37,
   "metadata": {},
   "outputs": [
    {
     "data": {
      "text/plain": [
       "Text(0.5, 1.0, 'Logistic regression simulation')"
      ]
     },
     "execution_count": 37,
     "metadata": {},
     "output_type": "execute_result"
    },
    {
     "data": {
      "image/png": "[encoded data removed]",
      "text/plain": [
       "<Figure size 405x360 with 1 Axes>"
      ]
     },
     "metadata": {},
     "output_type": "display_data"
    }
   ],
   "source": [
    "n_samples = 500\n",
    "w0        = np.array([-3, 3.])\n",
    "\n",
    "X, y = simu_logreg(w0, n_samples=n_samples, corr = 0.8)\n",
    "\n",
    "simulated_data          = pd.DataFrame(columns = [\"x\",\"y\",\"Label\"])\n",
    "simulated_data[\"x\"]     = X[:,0]\n",
    "simulated_data[\"y\"]     = X[:,1]\n",
    "simulated_data[\"Label\"] = y\n",
    "\n",
    "sns.set_style(\"whitegrid\")\n",
    "sns.lmplot(x = \"x\", y = \"y\", data = simulated_data, fit_reg = False, hue = \"Label\", legend = True, scatter_kws={\"s\": 5})\n",
    "\n",
    "plt.title(\"Logistic regression simulation\")"
   ]
  },
  {
   "cell_type": "code",
   "execution_count": 38,
   "metadata": {
    "collapsed": true
   },
   "outputs": [],
   "source": [
    "class ModelLogReg:\n",
    "    # X : `numpy.array`, shape=(n_samples, n_features), features matrix\n",
    "    # y : `numpy.array`, shape=(n_samples,), vector of labels\n",
    "    # strength : `float`, strength of ridge penalization\n",
    "    \n",
    "    def __init__(self, X, y, strength):\n",
    "        self.X = X\n",
    "        self.y = y\n",
    "        self.strength = strength\n",
    "        self.n_samples, self.n_features = X.shape\n",
    "    \n",
    "    def loss(self, w):\n",
    "        # Computes f(w)\n",
    "        y, X, n_samples, strength = self.y, self.X, self.n_samples, self.strength\n",
    "        res = 0\n",
    "        for k in range(n_samples):\n",
    "            res += np.log(1+np.exp(-y[k]*X[k].dot(w)))\n",
    "        res = res/n_samples\n",
    "        res += strength*0.5*(norm(w)**2)\n",
    "        return res\n",
    "        \n",
    "       \n",
    "    def grad(self, w):\n",
    "        # Computes the gradient of f at w\n",
    "        y, X, n_samples, strength = self.y, self.X, self.n_samples, self.strength\n",
    "        res = 0\n",
    "        for k in range(n_samples):\n",
    "            res += (-y[k]*X[k]*np.exp(-y[k]*X[k].dot(w)))/(1+np.exp(-y[k]*X[k].dot(w)))\n",
    "        res = res/n_samples\n",
    "        res += strength*w\n",
    "        return res\n",
    "        \n",
    "\n",
    "    def grad_i(self, i, w):\n",
    "        # Computes the gradient of f_i at w\n",
    "        X, strength = self.X, self.strength\n",
    "        x_i = X[i]\n",
    "        y   = self.y\n",
    "        return (-y[i]*x_i*np.exp(-y[i]*x_i.dot(w)))/(1 + np.exp(-y[i]*x_i.dot(w))) + strength * w\n",
    "\n",
    "    def grad_coordinate(self, j, w):\n",
    "        # Computes the partial derivative of f with respect to the j-th coordinate\n",
    "        y, X, n_samples, strength = self.y, self.X, self.n_samples, self.strength\n",
    "        \n",
    "        res = 0\n",
    "        for k in range (n_samples):\n",
    "            res += -y[k]*X[k][j]*np.exp(-y[k]*X[k].dot(w))/(1 + np.exp(-y[k]*X[k].dot(w)))\n",
    "        return res/n_samples + strength*w[j]\n",
    "\n",
    "    def lip(self):\n",
    "        # Computes the Lipschitz constant of f\n",
    "        X, n_samples = self.X, self.n_samples\n",
    "        \n",
    "        return((norm(X,2)**2)/(4*n_samples)+ self.strength)"
   ]
  },
  {
   "cell_type": "code",
   "execution_count": 39,
   "metadata": {},
   "outputs": [
    {
     "data": {
      "text/plain": [
       "4.5715444412346444e-08"
      ]
     },
     "execution_count": 39,
     "metadata": {},
     "output_type": "execute_result"
    }
   ],
   "source": [
    "# Check numerically the gradient using the function checkgrad from scipy.optimize\n",
    "# Use the function simu_logreg to simulate data according to the logistic regression model\n",
    "n_features = 10\n",
    "w_true     = np.random.randn(n_features)\n",
    "X, y       = simu_logreg(w0 = w_true, n_samples=n_samples, corr=0.1)\n",
    "modelreg   = ModelLogReg(X, y, strength=1e-3)\n",
    "# check_grad assesses the correctness of a gradient by comparing it to a finite-difference approximation\n",
    "check_grad(modelreg.loss, modelreg.grad, w_true)"
   ]
  },
  {
   "cell_type": "markdown",
   "metadata": {},
   "source": [
    "#### <font color=darkred> Gradient descent </font>"
   ]
  },
  {
   "cell_type": "markdown",
   "metadata": {},
   "source": [
    "Starting from an initial vector $w^{(0)}$ and with a step size $\\eta>0$, the most simple gradient based algorithm writes, for all $k\\geqslant 0$,\n",
    "$$\n",
    "w^{(k+1)} = w^{(k)} - \\eta \\nabla f(w^{(k)})\\,.\n",
    "$$\n",
    "Assume that $f : \\mathbb{R}^d \\to \\mathbb{R}$ is a $L$-smooth convex function, i.e. a convex function such that for all $(x,y)\\in\\mathbb{R}^d\\times\\mathbb{R}^d$, \n",
    "$$\n",
    "\\|\\nabla f(x) - \\nabla f(y)\\|\\leqslant L\\|x-y\\|\n",
    "$$ \n",
    "and let $w^{\\star}$ be a minimum of $f$ on $\\mathbb{R}^d$. Then, Gradient Descent with step size $\\eta \\leqslant 1/L$ satisfies\n",
    "$$\n",
    "f(w^{(k)}) - f(w^{\\star}) \\leqslant \\frac{\\|w^{(0)} - w^{\\star}\\|_2^2}{2 \\eta k}\\,.\n",
    "$$\n",
    "In particular, for $\\eta=1/L$, \n",
    "$$\n",
    "L\\|w^{(0)} - w^{\\star}\\|_2^2/2\\varepsilon\n",
    "$$\n",
    "iterations are sufficient to get an $\\varepsilon$-approximation of the minimal value of $f$."
   ]
  },
  {
   "cell_type": "code",
   "execution_count": 40,
   "metadata": {
    "collapsed": true
   },
   "outputs": [],
   "source": [
    "def gd(model, w0, n_iter):\n",
    "    loss_val = np.zeros(n_iter+1)\n",
    "    step     = 1 / model.lip()\n",
    "    w        = w0.copy()\n",
    "    w_new    = w0.copy()\n",
    "    for k in range(n_iter + 1):\n",
    "        w_new[:]    = w-step*model.grad(w)\n",
    "        w[:]        = w_new\n",
    "        loss_val[k] = model.loss(w)\n",
    "    return loss_val"
   ]
  },
  {
   "cell_type": "markdown",
   "metadata": {},
   "source": [
    "#### Choice of $\\eta$\n",
    "\n",
    "In practice, the algorithm performance is highly sensitive to the choice of $\\eta$.\n",
    "\n",
    "``Exact line search``. At each step, choose the best $\\eta$ by optimizing\n",
    "$$\n",
    "\\eta^{(k)} = \\mathrm{argmin}_{\\eta >0} f(w - \\eta \\nabla f(w))\\,.\n",
    "$$\n",
    "The computational cost of this approach makes it prohibitive. \n",
    "\n",
    "``Backtracking line search``.\n",
    "First, fix a parameter $0 < \\beta < 1$, then at each iteration, start with $\\eta^{(k)}=1$ and while\n",
    "$$\n",
    "f( w^{(k)} -  \\eta^{(k)}\\nabla f (w^{(k)})) > f(w^{(k)}) - \\frac{\\eta^{(k)}}{2} \\|\\nabla f(w^{(k)}) \\|^2,\n",
    "$$\n",
    "update $ \\eta^{(k)} = \\beta \\eta^{(k)}$. This simple to implement approach is widespread and efficient in practice. Let $f : \\mathbb{R}^d \\to \\mathbb{R}$ be a $L$-smooth convex function and  $w^{\\star}$ be a minimum of $f$ on $\\mathbb{R}^d$. Then, Gradient Descent with backtracking line search satisfies\n",
    "$$\n",
    "f(w^{(k)}) - f(w^{\\star}) \\leqslant \\frac{\\|w^{(0)} - w^{\\star}\\|_2^2}{2 k \\min(1, \\beta/L) }\\,,\n",
    "$$\n",
    "which provides a convergence result for a method with adaptive step size (i.e. it is not required to choose and tune $\\eta$)."
   ]
  },
  {
   "cell_type": "markdown",
   "metadata": {},
   "source": [
    "In the case of machine/deep learning applications, the function to be minimized is of the form:\n",
    "$$\n",
    "f:w\\mapsto  \\frac{1}{n}\\sum_{i=1}^n \\ell(Y_i, \\langle w; X_i \\rangle) + \\lambda g(w) = \\frac{1}{n}\\sum_{i=1}^n f_i(w)\\,.\n",
    "$$\n",
    "The previous method  is based on full gradients, since at each iteration  it requires to compute\n",
    "$$\n",
    "\\nabla f(w) = \\frac 1n \\sum_{i=1}^n \\nabla  f_i(w)\\,,\n",
    "$$\n",
    "which depends on the whole dataset. When processing very large datasets ($n$ is large), this approach has a highly prohibitive computational cost  for a  unique step towards the minimum. Stochastic Gradient Descent algorithm aims at reducing this computational cost by replacing this gradient by an unbiased estimate. If $I$ choose uniformly at random $I \\in \\{ 1, \\ldots, n \\}$, then\n",
    "$$\n",
    "\\mathbb{E}[\\nabla f_I(w)] = \\frac 1n \\sum_{i=1}^n \\nabla f_{i}(w) = \\nabla f(w)\\,.\n",
    "$$\n",
    "Therefore $\\nabla f_I(w)$ is an \\textbf{unbiased} estimate of the full gradient $\\nabla f(w)$. The computation of $\\nabla f_I(w)$ only requires the $I$-th data and its complexity is of order $O(d)$. Starting from $w^{(0)}$, and chosing the step size $\\eta_k$ at each time step, Stochastic Gradient Descent algorithm proceeds as follows.\n",
    "For all $k\\geqslant 1$, pick at random (uniformly) $I_k$ in $\\{ 1, \\ldots, n \\}$ and set\n",
    "$$\n",
    "w^{(k)} = w^{(k-1)} - \\eta_k \\nabla f_{I_k}(w^{(k-1)})\\,.\n",
    "$$\n",
    "Each iteration has complexity $O(d)$ instead of $O(nd)$ for the previous  full gradient methods."
   ]
  },
  {
   "cell_type": "markdown",
   "metadata": {},
   "source": [
    "#### <font color=darkred> Stochastic gradient descent algorithms </font>"
   ]
  },
  {
   "cell_type": "code",
   "execution_count": 41,
   "metadata": {
    "collapsed": true
   },
   "outputs": [],
   "source": [
    "def sgd(model, w0, n_iter, step):\n",
    "    w         = w0.copy()\n",
    "    n_samples = model.n_samples\n",
    "    loss_val  = np.zeros(n_iter)\n",
    "    for idx in range(n_iter):\n",
    "        i             = np.random.randint(0, model.n_samples) \n",
    "        w             = w - step*model.grad_i(i,w)/(np.sqrt(idx+1))\n",
    "        loss_val[idx] = model.loss(w)\n",
    "    return loss_val"
   ]
  },
  {
   "cell_type": "markdown",
   "metadata": {},
   "source": [
    "#### <font color=darkred> Accelerated gradient algorithm (bonus) </font>"
   ]
  },
  {
   "cell_type": "code",
   "execution_count": 42,
   "metadata": {
    "collapsed": true
   },
   "outputs": [],
   "source": [
    "def agd(model, w0, n_iter):\n",
    "    step  = 1 / model.lip()\n",
    "    w     = w0.copy()\n",
    "    w_new = w0.copy()\n",
    "   \n",
    "    # An extra variable is required for acceleration\n",
    "    z         = w0.copy()\n",
    "    t         = 1.\n",
    "    t_new     = 1.    \n",
    "    loss_val  = np.zeros(n_iter+1)\n",
    "    for k in range(n_iter + 1):\n",
    "        w_new[:]    = z-step*model.grad(w)\n",
    "        t_new       = 1./2.+(1.+4.*t*t)**(0.5)/2.\n",
    "        z[:]        = w_new+(t-1)/t_new*(w_new-w)\n",
    "        t           = t_new\n",
    "        w[:]        = w_new\n",
    "        loss_val[k] = model.loss(w)\n",
    "    return loss_val"
   ]
  },
  {
   "cell_type": "code",
   "execution_count": 43,
   "metadata": {
    "collapsed": true
   },
   "outputs": [],
   "source": [
    "step_sgd   = 1e-1\n",
    "w0         = np.random.randn(n_features)\n",
    "n_iter_max = 10\n",
    "\n",
    "gd_loss  = gd(modelreg, w0, n_iter = n_iter_max)\n",
    "agd_loss = agd(modelreg, w0, n_iter = n_iter_max)\n",
    "sgd_loss = sgd(modelreg, w0, n_iter = n_iter_max*n_samples, step = step_sgd)"
   ]
  },
  {
   "cell_type": "code",
   "execution_count": 44,
   "metadata": {},
   "outputs": [
    {
     "data": {
      "image/png": "[encoded data removed]",
      "text/plain": [
       "<Figure size 864x576 with 3 Axes>"
      ]
     },
     "metadata": {},
     "output_type": "display_data"
    }
   ],
   "source": [
    "figure = plt.figure(figsize = (12, 8))\n",
    "plt.subplot(1,3,1)\n",
    "plt.plot(gd_loss, '-')\n",
    "plt.title('Gradient descent')\n",
    "plt.xlabel('Number of iterations')\n",
    "plt.ylabel('Loss value')\n",
    "plt.ylim([0.2,1])\n",
    "plt.subplot(1,3,2)\n",
    "plt.plot(agd_loss, '-')\n",
    "plt.title('Accelerated gradient descent')\n",
    "plt.xlabel('Number of iterations')\n",
    "plt.ylabel('Loss value')\n",
    "plt.ylim([0.2,1])\n",
    "plt.subplot(1,3,3)\n",
    "plt.plot(sgd_loss, ':')\n",
    "plt.title('Stochastic gradient descent')\n",
    "plt.xlabel('Number of iterations')\n",
    "plt.ylim([0.2,1])\n",
    "plt.tight_layout()"
   ]
  },
  {
   "cell_type": "markdown",
   "metadata": {},
   "source": [
    "Repeat the experiment and highlight the influence of\n",
    "\n",
    "``the number of observations`` ;\n",
    "\n",
    "``the step-size`` (learning rate) of each algorithm ;\n",
    "\n",
    "``the correlation`` between variables..."
   ]
  },
  {
   "cell_type": "markdown",
   "metadata": {},
   "source": [
    "You may also repeat the process by defining a class for ``linear regression`` and computing the associated derivatives etc."
   ]
  },
  {
   "cell_type": "markdown",
   "metadata": {},
   "source": [
    "#### <font color=darkred> Optimization methods for neural networks (bonus) </font>\n",
    "\n",
    "``The ADAptive GRADient`` algorithm introduced by http://www.jmlr.org/papers/volume12/duchi11a/duchi11a.pdf, (Duchi et al. 2011), starts from $w^{(0)}$ and uses a learning rate $\\eta > 0$ and a momentum $\\alpha$ and defines, for all $k\\geqslant 0$ and all $j \\in\\{1, \\ldots , d\\}$, \n",
    "$$\n",
    "w_j^{(k+1)} \\gets w_j^{(k)}  - \\frac{\\eta}{\\sqrt{\\sum_{\\tau=1}^k (\\nabla f (w^{(\\tau)}))_j^2}} (\\nabla f(w^{(k)}))_j\\,.\n",
    "$$\n",
    "The rationale of this method is that different rates are used for all coordinates which is crucial for neural networks in which gradient at different layers can be of different order of magnitude. It is proved in https://arxiv.org/pdf/1806.01811.pdf (Ward et al., 2018) that AdaGrad achieves the same convergence rate as gradient descent with optimal fixed stepsize up to a $\\log$ factor. The adaptive step size grows with the inverse of the gradient magnitudes, so that large gradients have small learning rates and small gradients have\n",
    "large learning rates.\n",
    "\n",
    "``AdaDelta`` Introduced in https://arxiv.org/pdf/1212.5701.pdf (Zeiler, 2012) to reduce the sensitivity to initial conditions of AdaGrad. Indeed, if the initial gradients are large, the learning rates of AdaGrad will be low for all updates which can be overcome by increasing $\\eta$, but making the AdaGrad method highly sensitive to the choice of $\\eta$.  \n",
    "\n",
    "\n",
    "``RMSprop optimizer`` Unpublished method, from the course of http://www.cs.toronto.edu/~tijmen/csc321/slides/lecture_slides_lec6.pdf (Geoff Hinton).\n",
    "\n",
    "\n",
    "``ADAM: Adaptive moment estimation`` Introduced in https://arxiv.org/pdf/1412.6980.pdf (Kingma et al., 2014) and considered as the state of the art to otpimize neural networks, the ADAM procedure update the parameter estimate as follows. Starting from $m_0 = 0$ and $v_0=0$ and choosing $\\beta_1, \\beta_2, \\eta, \\varepsilon\n",
    " \\in (0,1)$, compute first and second moment estimate \n",
    "$$\n",
    "m_k = \\beta_1 m_{k-1} + (1 - \\beta_1) \\nabla f (w^{(k)}) \\quad  \\mathrm{and} \\quad v_k = \\beta_2 v_{k-1} + (1 - \\beta_2) (\\nabla f (w^{(k)}))^2\\,,\n",
    "$$\n",
    "then, compute the correction terms\n",
    "$$\n",
    "\\hat{m}_k = \\frac{m_k}{1 - \\beta_1^k} \\quad \\hat{v}_k = \\frac{v_k}{1 - \\beta_2^k}\\,,\n",
    "$$\n",
    "and update the parameter estimate with\n",
    "$$\n",
    "w^{(k+1)} = w^{(k)} - \\frac{\\eta}{\\sqrt{\\hat{v}_k}+ \\varepsilon} \\hat{m}_k\\,.\n",
    "$$\n",
    "First convergence results can be found in https://arxiv.org/pdf/1412.6980.pdf (Kingma et al., 2014) and examples where ADAM algorithm does not converge to the optimum are given in https://openreview.net/pdf?id=ryQu7f-RZ (Reddi et al., 2018). Recent analysis by https://arxiv.org/abs/1810.02263 (Barakat et al., 2018)."
   ]
  }
 ],
 "metadata": {
  "kernelspec": {
   "display_name": "Python 3",
   "language": "python",
   "name": "python3"
  },
  "language_info": {
   "codemirror_mode": {
    "name": "ipython",
    "version": 3
   },
   "file_extension": ".py",
   "mimetype": "text/x-python",
   "name": "python",
   "nbconvert_exporter": "python",
   "pygments_lexer": "ipython3",
   "version": "3.6.8"
  }
 },
 "nbformat": 4,
 "nbformat_minor": 2
}
