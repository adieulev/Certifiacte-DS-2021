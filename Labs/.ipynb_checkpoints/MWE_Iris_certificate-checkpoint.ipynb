{
 "cells": [
  {
   "cell_type": "markdown",
   "metadata": {
    "id": "VMYUukGGqMSv"
   },
   "source": [
    "This is a short notebook with the code used to generate the figures in the Slides on the iris dataset"
   ]
  },
  {
   "cell_type": "code",
   "execution_count": null,
   "metadata": {
    "cellView": "code",
    "colab": {
     "base_uri": "https://localhost:8080/",
     "height": 345
    },
    "id": "VeJHkJd7RsDw",
    "outputId": "8dcd6108-5ac5-4f59-f96c-3ca2272c6422"
   },
   "outputs": [],
   "source": [
    "#@title Default title text\n",
    "from sklearn.datasets import load_iris\n",
    "from sklearn.model_selection import cross_val_score\n",
    "from sklearn.tree import DecisionTreeClassifier, plot_tree\n",
    "from sklearn.model_selection import train_test_split\n",
    "from sklearn.model_selection import train_test_split\n",
    "import matplotlib.pyplot as plt\n",
    "\n",
    "# Choose the Learning algorithm\n",
    "clf = DecisionTreeClassifier(max_depth = 2) # TODO OPERAND\n",
    "\n",
    "#Load the dataset\n",
    "iris = load_iris()\n",
    "X_train, X_test, y_train, y_test = train_test_split(\n",
    "    iris.data, iris.target, test_size=0.33, random_state=43)\n",
    "\n",
    "# Fit the model\n",
    "clf.fit(X_train,y_train) # TODO LINE\n",
    "\n",
    "# Plot tree\n",
    "plt.figure(figsize=(5,4))\n",
    "plot_tree(clf, feature_names = iris.feature_names,\n",
    "               class_names=iris.target_names,\n",
    "               filled = True)\n",
    "plt.show()"
   ]
  },
  {
   "cell_type": "code",
   "execution_count": null,
   "metadata": {
    "colab": {
     "base_uri": "https://localhost:8080/",
     "height": 267
    },
    "id": "3Tvwg3Eco5_b",
    "outputId": "719bd3e8-7f66-4306-a57b-5402d9a30202"
   },
   "outputs": [],
   "source": [
    "import graphviz\n",
    "\n",
    "from sklearn.tree import  export_graphviz\n",
    "plot_tree(clf, filled=True, feature_names = iris.feature_names,\n",
    "               class_names=iris.target_names)\n",
    "plt.show()\n",
    "\n",
    "import graphviz\n",
    "dot_data = export_graphviz(clf, filled=True, out_file=None, feature_names = iris.feature_names,\n",
    "               class_names=iris.target_names)\n",
    "graph = graphviz.Source(dot_data)\n",
    "graph.render(\"iris_data_dec_tree\")"
   ]
  },
  {
   "cell_type": "code",
   "execution_count": 1,
   "metadata": {},
   "outputs": [
    {
     "ename": "NameError",
     "evalue": "name 'DecisionTreeClassifier' is not defined",
     "output_type": "error",
     "traceback": [
      "\u001b[0;31m---------------------------------------------------------------------------\u001b[0m",
      "\u001b[0;31mNameError\u001b[0m                                 Traceback (most recent call last)",
      "Cell \u001b[0;32mIn[1], line 5\u001b[0m\n\u001b[1;32m      1\u001b[0m \u001b[38;5;28;01mimport\u001b[39;00m \u001b[38;5;21;01mpandas\u001b[39;00m \u001b[38;5;28;01mas\u001b[39;00m \u001b[38;5;21;01mpd\u001b[39;00m\n\u001b[1;32m      2\u001b[0m \u001b[38;5;28;01mfrom\u001b[39;00m \u001b[38;5;21;01msklearn\u001b[39;00m\u001b[38;5;21;01m.\u001b[39;00m\u001b[38;5;21;01mmodel_selection\u001b[39;00m \u001b[38;5;28;01mimport\u001b[39;00m GridSearchCV, KFold\n\u001b[1;32m      4\u001b[0m models \u001b[38;5;241m=\u001b[39m {\n\u001b[0;32m----> 5\u001b[0m     \u001b[38;5;124m\"\u001b[39m\u001b[38;5;124mDec Tree\u001b[39m\u001b[38;5;124m\"\u001b[39m: DecisionTreeClassifier( random_state\u001b[38;5;241m=\u001b[39m\u001b[38;5;241m0\u001b[39m\n\u001b[1;32m      6\u001b[0m     ),\n\u001b[1;32m      7\u001b[0m }\n\u001b[1;32m      8\u001b[0m param_grids \u001b[38;5;241m=\u001b[39m {\n\u001b[1;32m      9\u001b[0m     \u001b[38;5;124m\"\u001b[39m\u001b[38;5;124mDec Tree\u001b[39m\u001b[38;5;124m\"\u001b[39m: {\u001b[38;5;124m\"\u001b[39m\u001b[38;5;124mmax_depth\u001b[39m\u001b[38;5;124m\"\u001b[39m: [\u001b[38;5;241m1\u001b[39m, \u001b[38;5;241m2\u001b[39m, \u001b[38;5;241m3\u001b[39m, \u001b[38;5;241m5\u001b[39m, \u001b[38;5;241m10\u001b[39m, \u001b[38;5;241m30\u001b[39m]},\n\u001b[1;32m     10\u001b[0m }\n\u001b[1;32m     12\u001b[0m \u001b[38;5;66;03m# cv = KFold(n_splits=4, shuffle=True, random_state=0)\u001b[39;00m\n",
      "\u001b[0;31mNameError\u001b[0m: name 'DecisionTreeClassifier' is not defined"
     ]
    }
   ],
   "source": [
    "import pandas as pd\n",
    "from sklearn.model_selection import GridSearchCV, KFold\n",
    "\n",
    "models = {\n",
    "    \"Dec Tree\": DecisionTreeClassifier( random_state=0\n",
    "    ),\n",
    "}\n",
    "param_grids = {\n",
    "    \"Dec Tree\": {\"max_depth\": [1, 2, 3, 5, 10, 30]},\n",
    "}\n",
    "\n",
    "# cv = KFold(n_splits=4, shuffle=True, random_state=0)\n",
    "\n",
    "results = []\n",
    "for name, model in models.items():\n",
    "    grid_search = GridSearchCV(\n",
    "        estimator=model,\n",
    "        param_grid=param_grids[name],\n",
    "        return_train_score=True,\n",
    "        cv=5,\n",
    "    ).fit(X_train, y_train)\n",
    "    result = {\"model\": name, \"cv_results\": pd.DataFrame(grid_search.cv_results_)}\n",
    "    results.append(result)\n",
    "\n",
    "grid_search.best_score_ , grid_search.cv_results_"
   ]
  },
  {
   "cell_type": "code",
   "execution_count": null,
   "metadata": {
    "colab": {
     "base_uri": "https://localhost:8080/"
    },
    "id": "uD0Q73pFg9QT",
    "outputId": "623fc128-8099-4292-862e-629149864442"
   },
   "outputs": [],
   "source": [
    "clf.predict(X_test)"
   ]
  },
  {
   "cell_type": "code",
   "execution_count": null,
   "metadata": {
    "colab": {
     "base_uri": "https://localhost:8080/"
    },
    "id": "AUMmxx-sGQ-s",
    "outputId": "e6933c1e-5977-4099-e01d-5a4e41e9a20d"
   },
   "outputs": [],
   "source": [
    "clf.score(X_test,y_test)"
   ]
  },
  {
   "cell_type": "code",
   "execution_count": null,
   "metadata": {
    "colab": {
     "base_uri": "https://localhost:8080/",
     "height": 665
    },
    "id": "g8BbJu1mR6xZ",
    "outputId": "06ae4cbe-dc7c-4c4f-e386-b0585c635b8c"
   },
   "outputs": [],
   "source": [
    "font = {'family' : 'normal',\n",
    "        'weight' : 'bold',\n",
    "        'size'   : 22}\n",
    "plt.matplotlib.rc('font', **font)\n",
    "\n",
    "plt.figure(figsize=(20,10))\n",
    "plt.subplot(1,2,1)\n",
    "plt.scatter(iris.data[:,0],iris.data[:,1], c=iris.target)\n",
    "plt.xlabel(iris.feature_names[0])\n",
    "plt.ylabel(iris.feature_names[1])\n",
    "plt.subplot(1,2,2)\n",
    "plt.scatter(iris.data[:,2],iris.data[:,3], c=iris.target)\n",
    "plt.xlabel(iris.feature_names[2])\n",
    "plt.ylabel(iris.feature_names[3])\n",
    "\n",
    "plt.savefig('iris.jpg')\n",
    "plt.show()\n"
   ]
  },
  {
   "cell_type": "code",
   "execution_count": null,
   "metadata": {
    "colab": {
     "base_uri": "https://localhost:8080/"
    },
    "id": "kaWtp7UHSFYX",
    "outputId": "188881db-ede3-4217-fdc2-6d3dcbc73b8b"
   },
   "outputs": [],
   "source": [
    "X_test[0,:], iris.target_names[y_test[0]]"
   ]
  },
  {
   "cell_type": "code",
   "execution_count": null,
   "metadata": {
    "id": "N85tsdL3SNUm"
   },
   "outputs": [],
   "source": []
  },
  {
   "cell_type": "code",
   "execution_count": null,
   "metadata": {
    "colab": {
     "base_uri": "https://localhost:8080/",
     "height": 602
    },
    "id": "2m5gPBWkX6Dk",
    "outputId": "f7506ced-bb85-47ec-c153-878a90f3c21f"
   },
   "outputs": [],
   "source": [
    "from sklearn.ensemble import RandomForestClassifier\n",
    "\n",
    "plt.figure(figsize=(20,10))\n",
    "clf = RandomForestClassifier(n_estimators = 99,max_depth=3, bootstrap = True,random_state =43)# TODO OPERAND\n",
    "\n",
    "clf.fit(X_train,y_train)\n",
    "cross_val_score(clf, iris.data, iris.target, cv=10)\n",
    "plt.bar(iris.feature_names, clf.feature_importances_)\n",
    "plt.show()"
   ]
  },
  {
   "cell_type": "code",
   "execution_count": null,
   "metadata": {
    "colab": {
     "base_uri": "https://localhost:8080/"
    },
    "id": "jgFRdPOeo653",
    "outputId": "581627bb-7c59-459f-9ccb-da11106b1a80"
   },
   "outputs": [],
   "source": [
    "clf.predict(X_test)"
   ]
  },
  {
   "cell_type": "code",
   "execution_count": null,
   "metadata": {
    "colab": {
     "base_uri": "https://localhost:8080/"
    },
    "id": "2t0TGSZ1tEL5",
    "outputId": "9bc156ec-e5d1-4042-b195-bd16bfb1a07e"
   },
   "outputs": [],
   "source": [
    "y_test"
   ]
  },
  {
   "cell_type": "code",
   "execution_count": null,
   "metadata": {
    "colab": {
     "base_uri": "https://localhost:8080/"
    },
    "id": "C9YD31ZUF26H",
    "outputId": "ef7c9c38-6890-447d-9e85-1b4582a8a05c"
   },
   "outputs": [],
   "source": [
    "clf.score(X_test,y_test)"
   ]
  },
  {
   "cell_type": "code",
   "execution_count": null,
   "metadata": {
    "id": "PZIC2s3WGGcH"
   },
   "outputs": [],
   "source": []
  }
 ],
 "metadata": {
  "colab": {
   "provenance": []
  },
  "kernelspec": {
   "display_name": "Python 3 (ipykernel)",
   "language": "python",
   "name": "python3"
  },
  "language_info": {
   "codemirror_mode": {
    "name": "ipython",
    "version": 3
   },
   "file_extension": ".py",
   "mimetype": "text/x-python",
   "name": "python",
   "nbconvert_exporter": "python",
   "pygments_lexer": "ipython3",
   "version": "3.11.5"
  }
 },
 "nbformat": 4,
 "nbformat_minor": 1
}
