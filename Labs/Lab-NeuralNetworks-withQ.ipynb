{
  "cells": [
    {
      "cell_type": "markdown",
      "metadata": {
        "id": "fhELaBheBzK1"
      },
      "source": [
        "# <font color=darkcyan>  Machine Learning in Python </font>\n",
        "\n",
        "### <font color=darkorange> Random Forests & Neural networks</font>"
      ]
    },
    {
      "cell_type": "markdown",
      "metadata": {
        "id": "loP5ssXlBzK4"
      },
      "source": [
        "## 2. <font color=darkred> Handwritten digit recognition with MNIST </font>"
      ]
    },
    {
      "cell_type": "markdown",
      "metadata": {
        "scrolled": true,
        "id": "Rm8SR98uBzK5"
      },
      "source": [
        "This section aims at using neural networks to perform classification on the [MNIST](http://yann.lecun.com/exdb/mnist) dataset.\n",
        "This dataset contains images representing handwritten digits.  Each image is made of 28 x 28 pixels, and each pixel is represented by an integer (gray level).  These arrays can be flattened into vectors of 28 x 28 = 784 numbers.\n",
        "Each image is then a 784-dimensional vector.  Visualisations of this vector space are given here: [http://colah.github.io/posts/2014-10-Visualizing-MNIST/](http://colah.github.io/posts/2014-10-Visualizing-MNIST/).\n",
        "\n",
        "The labels in $\\{0, 1, 2, \\ldots, 9\\}$ can represented using one-hot encoding: labels in $\\{0, 1, 2, \\ldots, 9\\}$ are replaced by labels in $\\{ 0, 1\\}^{10}$, namely $0$ is replaced by $(1, 0, \\ldots 0)$, $1$ is replaced by $(0, 1, 0, \\ldots 0)$, $2$ is replaced by $(0, 0, 1, 0, \\ldots, 0)$, etc.\n",
        "\n",
        "Also, MNIST data is grayscale pixels in $\\{0, \\ldots, 255\\}$ which should be normalized to belong to $[0, 1]$."
      ]
    },
    {
      "cell_type": "code",
      "execution_count": 3,
      "metadata": {
        "collapsed": true,
        "id": "qYGG4QS3BzK5"
      },
      "outputs": [],
      "source": [
        "import warnings\n",
        "warnings.filterwarnings('ignore')\n",
        "import numpy as np\n",
        "import matplotlib.pyplot as plt\n",
        "from sklearn.ensemble import RandomForestRegressor\n",
        "from sklearn.metrics import mean_squared_error\n",
        "%matplotlib inline"
      ]
    },
    {
      "cell_type": "markdown",
      "metadata": {
        "id": "UtCe_KrqBzK6"
      },
      "source": [
        "<font color=blue> The following cell allows me to track your progress and see some of your results. You can use your first name or a  pseudonym if you prefer! <br>\n",
        "When you see a \"send\" function, just ignore it !\n",
        "</font>"
      ]
    },
    {
      "cell_type": "code",
      "execution_count": 4,
      "metadata": {
        "collapsed": true,
        "id": "M1q8YmlYBzK7",
        "outputId": "a86529a9-691a-42ae-d4eb-4d7bbccc93b3",
        "colab": {
          "base_uri": "https://localhost:8080/"
        }
      },
      "outputs": [
        {
          "name": "stdout",
          "output_type": "stream",
          "text": [
            "Your name:f\n"
          ]
        },
        {
          "output_type": "execute_result",
          "data": {
            "text/plain": [
              "<Response [200]>"
            ]
          },
          "metadata": {},
          "execution_count": 4
        }
      ],
      "source": [
        "import requests\n",
        "\n",
        "exec(requests.get(\"https://courdier.pythonanywhere.com/get-send-code\").content)\n",
        "\n",
        "npt_config = {\n",
        "    'session_name': 'Deep Learning Mnist',\n",
        "    'session_owner': 'Aymeric',\n",
        "    'sender_name': input(\"Your name:\"),\n",
        "}\n",
        "send('started', 0)"
      ]
    },
    {
      "cell_type": "markdown",
      "metadata": {
        "id": "C_g_he8iBzK7"
      },
      "source": [
        "### <font color=darkorange> For a few cells, you have to complete a few lines of code. The solution is always given in the cell just below.</font> "
      ]
    },
    {
      "cell_type": "code",
      "execution_count": 5,
      "metadata": {
        "collapsed": true,
        "id": "YbgU7OM0BzK8",
        "outputId": "c78aa87b-e0c6-4ff1-9be6-8932c837fb0a",
        "colab": {
          "base_uri": "https://localhost:8080/"
        }
      },
      "outputs": [
        {
          "output_type": "stream",
          "name": "stdout",
          "text": [
            "Downloading data from https://storage.googleapis.com/tensorflow/tf-keras-datasets/mnist.npz\n",
            "11493376/11490434 [==============================] - 0s 0us/step\n",
            "11501568/11490434 [==============================] - 0s 0us/step\n",
            "x_train shape: (60000, 28, 28, 1)\n",
            "x_test shape: (10000, 28, 28, 1)\n",
            "y_train shape: (60000,)\n",
            "y_test shape: (10000,)\n",
            "60000 train samples\n",
            "10000 test samples\n"
          ]
        }
      ],
      "source": [
        "from keras.datasets import mnist\n",
        "#from keras import backend as K\n",
        "# Number of classes\n",
        "num_classes = 10\n",
        "# input image dimensions\n",
        "img_rows, img_cols = 28, 28\n",
        "\n",
        "# the data, shuffled and split between train and test sets\n",
        "(x_train, y_train), (x_test, y_test) = mnist.load_data()\n",
        "\n",
        "\n",
        "x_train     = x_train.reshape(x_train.shape[0], img_rows, img_cols, 1)\n",
        "x_test      = x_test.reshape(x_test.shape[0], img_rows, img_cols, 1)\n",
        "input_shape = (img_rows, img_cols, 1)\n",
        "\n",
        "x_train = x_train.astype('float32')\n",
        "x_test  = x_test.astype('float32')\n",
        "\n",
        "print('x_train shape:', x_train.shape)\n",
        "print('x_test shape:', x_test.shape)\n",
        "print('y_train shape:', y_train.shape)\n",
        "print('y_test shape:', y_test.shape)\n",
        "\n",
        "print(x_train.shape[0], 'train samples')\n",
        "print(x_test.shape[0], 'test samples')"
      ]
    },
    {
      "cell_type": "code",
      "execution_count": 6,
      "metadata": {
        "collapsed": true,
        "id": "yhcLEZwnBzK9",
        "outputId": "a8e68121-3ad5-4284-a0bd-7c2366815ff8",
        "colab": {
          "base_uri": "https://localhost:8080/",
          "height": 159
        }
      },
      "outputs": [
        {
          "output_type": "display_data",
          "data": {
            "text/plain": [
              "<Figure size 576x144 with 4 Axes>"
            ],
            "image/png": "[encoded data removed]"
          },
          "metadata": {
            "needs_background": "light"
          }
        }
      ],
      "source": [
        "plt.figure(figsize=(8, 2))\n",
        "for i in range(4):\n",
        "    plt.subplot(1, 4, i+1)\n",
        "    plt.imshow(x_train[i].reshape(28, 28), \n",
        "               interpolation=\"none\", cmap=\"gray_r\")\n",
        "    plt.title('Label = %d' % y_train[i], fontsize=14)\n",
        "    plt.axis(\"off\")\n",
        "plt.tight_layout()"
      ]
    },
    {
      "cell_type": "code",
      "execution_count": 7,
      "metadata": {
        "collapsed": true,
        "id": "Dyv7JhHJBzK9",
        "outputId": "bad34cd8-c8d3-405b-b511-0c1c2f9b4f6f",
        "colab": {
          "base_uri": "https://localhost:8080/",
          "height": 315
        }
      },
      "outputs": [
        {
          "output_type": "execute_result",
          "data": {
            "text/plain": [
              "<Response [200]>"
            ]
          },
          "metadata": {},
          "execution_count": 7
        },
        {
          "output_type": "display_data",
          "data": {
            "text/plain": [
              "<Figure size 576x288 with 32 Axes>"
            ],
            "image/png": "[encoded data removed]"
          },
          "metadata": {
            "needs_background": "light"
          }
        }
      ],
      "source": [
        "n_rows = 4\n",
        "n_cols = 8\n",
        "plt.figure(figsize=(8, 4))\n",
        "for i in range(n_rows * n_cols):\n",
        "    plt.subplot(n_rows, n_cols, i+1)\n",
        "    plt.imshow(x_train[i].reshape(28, 28),\n",
        "               interpolation=\"none\", cmap=\"gray_r\")\n",
        "    plt.axis(\"off\")\n",
        "plt.tight_layout()\n",
        "send(plt, 1)"
      ]
    },
    {
      "cell_type": "code",
      "execution_count": 8,
      "metadata": {
        "collapsed": true,
        "id": "kiIsWfLvBzK-",
        "outputId": "8239f404-4a87-4f87-dc76-b44a19b9b2d2",
        "colab": {
          "base_uri": "https://localhost:8080/"
        }
      },
      "outputs": [
        {
          "output_type": "stream",
          "name": "stdout",
          "text": [
            "[[  0   0   0   0   0   0   0   0   0   0   0   0   0   0   0   0   0   0   0   0   0   0   0   0   0   0   0   0]\n",
            " [  0   0   0   0   0   0   0   0   0   0   0   0   0   0   0   0   0   0   0   0   0   0   0   0   0   0   0   0]\n",
            " [  0   0   0   0   0   0   0   0   0   0   0   0   0   0   0   0   0   0   0   0   0   0   0   0   0   0   0   0]\n",
            " [  0   0   0   0   0   0   0   0   0   0   0   0   0   0   0   0   0   0   0   0   0   0   0   0   0   0   0   0]\n",
            " [  0   0   0   0   0   0   0   0   0   0   0   0   0   0   0   0   0   0   0   0   0   0   0   0   0   0   0   0]\n",
            " [  0   0   0   0   0   0   0   0   0   0   0   0   3  18  18  18 126 136 175  26 166 255 247 127   0   0   0   0]\n",
            " [  0   0   0   0   0   0   0   0  30  36  94 154 170 253 253 253 253 253 225 172 253 242 195  64   0   0   0   0]\n",
            " [  0   0   0   0   0   0   0  49 238 253 253 253 253 253 253 253 253 251  93  82  82  56  39   0   0   0   0   0]\n",
            " [  0   0   0   0   0   0   0  18 219 253 253 253 253 253 198 182 247 241   0   0   0   0   0   0   0   0   0   0]\n",
            " [  0   0   0   0   0   0   0   0  80 156 107 253 253 205  11   0  43 154   0   0   0   0   0   0   0   0   0   0]\n",
            " [  0   0   0   0   0   0   0   0   0  14   1 154 253  90   0   0   0   0   0   0   0   0   0   0   0   0   0   0]\n",
            " [  0   0   0   0   0   0   0   0   0   0   0 139 253 190   2   0   0   0   0   0   0   0   0   0   0   0   0   0]\n",
            " [  0   0   0   0   0   0   0   0   0   0   0  11 190 253  70   0   0   0   0   0   0   0   0   0   0   0   0   0]\n",
            " [  0   0   0   0   0   0   0   0   0   0   0   0  35 241 225 160 108   1   0   0   0   0   0   0   0   0   0   0]\n",
            " [  0   0   0   0   0   0   0   0   0   0   0   0   0  81 240 253 253 119  25   0   0   0   0   0   0   0   0   0]\n",
            " [  0   0   0   0   0   0   0   0   0   0   0   0   0   0  45 186 253 253 150  27   0   0   0   0   0   0   0   0]\n",
            " [  0   0   0   0   0   0   0   0   0   0   0   0   0   0   0  16  93 252 253 187   0   0   0   0   0   0   0   0]\n",
            " [  0   0   0   0   0   0   0   0   0   0   0   0   0   0   0   0   0 249 253 249  64   0   0   0   0   0   0   0]\n",
            " [  0   0   0   0   0   0   0   0   0   0   0   0   0   0  46 130 183 253 253 207   2   0   0   0   0   0   0   0]\n",
            " [  0   0   0   0   0   0   0   0   0   0   0   0  39 148 229 253 253 253 250 182   0   0   0   0   0   0   0   0]\n",
            " [  0   0   0   0   0   0   0   0   0   0  24 114 221 253 253 253 253 201  78   0   0   0   0   0   0   0   0   0]\n",
            " [  0   0   0   0   0   0   0   0  23  66 213 253 253 253 253 198  81   2   0   0   0   0   0   0   0   0   0   0]\n",
            " [  0   0   0   0   0   0  18 171 219 253 253 253 253 195  80   9   0   0   0   0   0   0   0   0   0   0   0   0]\n",
            " [  0   0   0   0  55 172 226 253 253 253 253 244 133  11   0   0   0   0   0   0   0   0   0   0   0   0   0   0]\n",
            " [  0   0   0   0 136 253 253 253 212 135 132  16   0   0   0   0   0   0   0   0   0   0   0   0   0   0   0   0]\n",
            " [  0   0   0   0   0   0   0   0   0   0   0   0   0   0   0   0   0   0   0   0   0   0   0   0   0   0   0   0]\n",
            " [  0   0   0   0   0   0   0   0   0   0   0   0   0   0   0   0   0   0   0   0   0   0   0   0   0   0   0   0]\n",
            " [  0   0   0   0   0   0   0   0   0   0   0   0   0   0   0   0   0   0   0   0   0   0   0   0   0   0   0   0]]\n"
          ]
        }
      ],
      "source": [
        "print(np.array2string(x_train[0].astype(np.int).reshape(28, 28),max_line_width=150))"
      ]
    },
    {
      "cell_type": "markdown",
      "metadata": {
        "id": "42Pm0oOFBzK_"
      },
      "source": [
        "<strong><font color=darkorange> Q1</font></strong>: To what do the numbers above correspond ?"
      ]
    },
    {
      "cell_type": "code",
      "execution_count": 9,
      "metadata": {
        "collapsed": true,
        "id": "11HDnm5aBzK_",
        "outputId": "a6257eb7-4f95-4467-837e-f10b35ff50b4",
        "colab": {
          "base_uri": "https://localhost:8080/"
        }
      },
      "outputs": [
        {
          "output_type": "execute_result",
          "data": {
            "text/plain": [
              "<Response [200]>"
            ]
          },
          "metadata": {},
          "execution_count": 9
        }
      ],
      "source": [
        "# COMPLETE HERE\n",
        "send(\"the numbers in the matrix correspond to ???? . The digit is a ????\", 2)"
      ]
    },
    {
      "cell_type": "markdown",
      "metadata": {
        "id": "Lw6Pb3l3BzK_"
      },
      "source": [
        "We now renormalize the data"
      ]
    },
    {
      "cell_type": "code",
      "execution_count": 10,
      "metadata": {
        "collapsed": true,
        "id": "0RltTgsXBzLA",
        "outputId": "d00a2931-160f-49fa-aa53-daf5bbf3a936",
        "colab": {
          "base_uri": "https://localhost:8080/"
        }
      },
      "outputs": [
        {
          "output_type": "stream",
          "name": "stdout",
          "text": [
            "0.0 1.0\n"
          ]
        }
      ],
      "source": [
        "x_train /= 255\n",
        "x_test /= 255\n",
        "print(x_train.min(axis=None), x_train.max(axis=None))"
      ]
    },
    {
      "cell_type": "code",
      "execution_count": 11,
      "metadata": {
        "collapsed": true,
        "id": "FBpBXKznBzLA",
        "outputId": "b7f57e8a-f2ed-47fd-b11e-6e8b5c76f20d",
        "colab": {
          "base_uri": "https://localhost:8080/"
        }
      },
      "outputs": [
        {
          "output_type": "execute_result",
          "data": {
            "text/plain": [
              "array([[0., 0., 0., 0., 0., 1., 0., 0., 0., 0.],\n",
              "       [1., 0., 0., 0., 0., 0., 0., 0., 0., 0.],\n",
              "       [0., 0., 0., 0., 1., 0., 0., 0., 0., 0.],\n",
              "       [0., 1., 0., 0., 0., 0., 0., 0., 0., 0.],\n",
              "       [0., 0., 0., 0., 0., 0., 0., 0., 0., 1.],\n",
              "       [0., 0., 1., 0., 0., 0., 0., 0., 0., 0.],\n",
              "       [0., 1., 0., 0., 0., 0., 0., 0., 0., 0.],\n",
              "       [0., 0., 0., 1., 0., 0., 0., 0., 0., 0.],\n",
              "       [0., 1., 0., 0., 0., 0., 0., 0., 0., 0.],\n",
              "       [0., 0., 0., 0., 1., 0., 0., 0., 0., 0.]], dtype=float32)"
            ]
          },
          "metadata": {},
          "execution_count": 11
        }
      ],
      "source": [
        "import keras\n",
        "import tensorflow as tf\n",
        "from tensorflow.keras.utils import to_categorical\n",
        "from keras.models import Sequential\n",
        "from keras.layers import Dense, Dropout, Flatten\n",
        "from keras.layers import Conv2D, MaxPooling2D\n",
        "from keras import activations\n",
        "# convert class vectors to binary class matrices\n",
        "y_train = tf.keras.utils.to_categorical(y_train, num_classes)\n",
        "y_test = tf.keras.utils.to_categorical(y_test, num_classes)\n",
        "y_train[:10]"
      ]
    },
    {
      "cell_type": "markdown",
      "metadata": {
        "id": "vOUQCE4mBzLA"
      },
      "source": [
        "### <font color=darkred> Softmax regression </font>"
      ]
    },
    {
      "cell_type": "markdown",
      "metadata": {
        "id": "MVWp1lexBzLA"
      },
      "source": [
        "The aim is to predict the digit $k$ represented by each picture, for $k \\in \\{0, \\ldots, 9\\}$.\n",
        "\n",
        "Softmax regression provides a model for the probability that an input image $x$ is associated with each class using a simple linear model.  It is assumed that the probability to belong to the class $k$ can be expressed by a weigthed sum of the pixel intensities, with weights $W_{k, 1}, \\ldots, W_{k, 784}$ and plus a bias $b_k$ capturing some variability independent of the input:\n",
        "$$\n",
        "\\text{score}_k(x_i) = \\sum_{j=1}^{784} W_{k, j} x_j + b_k,\n",
        "$$\n",
        "These scores are sometimes called the \"logits\" in the deep learning community.\n",
        "The softmax function is then used to convert these scores into probabilities $p_k$:\n",
        "$$\n",
        "p_k(x_i) = \\text{softmax}(\\text{score}_k(x_i)) = \\frac{\\exp(\\text{score}_k(x_i))}{\\sum_{k'=1}^{10}\\exp(\\text{score}_{k'}(x_i))}\n",
        "$$\n",
        "for $k=1, \\ldots, 10$.\n",
        "\n",
        "To estimatethe model weights $W_{k, j}$ and $b_k$ for $k=1, \\ldots, 10$ and $j=1, \\ldots, 784$, the loss function is given by the negative log-likelihood (see also the section on gradient based method). The negative log-likelihood of a sample with input $x_i \\in \\mathbb R^{784}$ and label $y_i \\in \\{0, 1\\}^{10}$, is given by the cross-entropy between the scores $p_k(x_i)$ and the label $y_i$:\n",
        "$$\n",
        "- \\sum_{k=1}^{10} y_{i, k} \\log(p_k(x_i))\n",
        "$$\n",
        "Stochastic gradient descent can be used to minimize this loss over small batches of data. "
      ]
    },
    {
      "cell_type": "code",
      "execution_count": 12,
      "metadata": {
        "collapsed": true,
        "id": "iIecwL29BzLB"
      },
      "outputs": [],
      "source": [
        "def softmax(x):\n",
        "    m = x.max()\n",
        "    e = np.exp(x - m)\n",
        "    return e / e.sum()"
      ]
    },
    {
      "cell_type": "markdown",
      "metadata": {
        "id": "NHQfQbYKBzLB"
      },
      "source": [
        "<strong><font color=darkorange> Q2</font></strong>: Define the logistic softmax model below by adding a single dense layer with num_classes outputs and a softmax activation"
      ]
    },
    {
      "cell_type": "code",
      "execution_count": 13,
      "metadata": {
        "collapsed": true,
        "scrolled": true,
        "id": "FUXelD4DBzLC",
        "outputId": "ee549c34-fc21-4912-9937-cee4ede200fb",
        "colab": {
          "base_uri": "https://localhost:8080/",
          "height": 133
        }
      },
      "outputs": [
        {
          "output_type": "error",
          "ename": "SyntaxError",
          "evalue": "ignored",
          "traceback": [
            "\u001b[0;36m  File \u001b[0;32m\"<ipython-input-13-f55341479a35>\"\u001b[0;36m, line \u001b[0;32m27\u001b[0m\n\u001b[0;31m    send(\"model\", 3)\u001b[0m\n\u001b[0m       ^\u001b[0m\n\u001b[0;31mSyntaxError\u001b[0m\u001b[0;31m:\u001b[0m invalid syntax\n"
          ]
        }
      ],
      "source": [
        "# Create a model prone to add layers sequentially\n",
        "model = Sequential()\n",
        "\n",
        "# flatten the data replaces 28 * 28 matrices by a 784 dimensional vector\n",
        "# This is always necessary before a fully-connected layer (Dense object)\n",
        "model.add(Flatten(input_shape=input_shape, name='flatten'))\n",
        "\n",
        "# add one dense (fully connected layer) with softmax activation function\n",
        "# As it is the first layer, the input size is mandatory\n",
        "\n",
        "\n",
        "model.add(##### COMPLETE HERE)\n",
        "\n",
        "    \n",
        "    \n",
        "# \"compile\" this model, \n",
        "model.compile(\n",
        "    # specify the loss as the cross-entropy\n",
        "    loss=keras.losses.categorical_crossentropy,\n",
        "    # choose the gradient based method to estimate the parameters\n",
        "    # see https://keras.io/optimizers/ to have an overview of the different options\n",
        "    # see also section 2 on gradient based methods.\n",
        "    optimizer=keras.optimizers.Adagrad(),\n",
        "    # metric to monitor on the test data\n",
        "    metrics=['accuracy']\n",
        ")\n",
        "send(\"model\", 3)\n",
        "model.summary()"
      ]
    },
    {
      "cell_type": "markdown",
      "metadata": {
        "id": "CY9-zEsJBzLC"
      },
      "source": [
        "<strong><font color=darkorange> Solution 2</font></strong>"
      ]
    },
    {
      "cell_type": "code",
      "execution_count": 14,
      "metadata": {
        "collapsed": true,
        "id": "KsgKgAbHBzLC",
        "outputId": "dbe18f83-5fba-47b5-9c8d-0902fd8bd96d",
        "colab": {
          "base_uri": "https://localhost:8080/"
        }
      },
      "outputs": [
        {
          "output_type": "stream",
          "name": "stdout",
          "text": [
            "Model: \"sequential\"\n",
            "_________________________________________________________________\n",
            " Layer (type)                Output Shape              Param #   \n",
            "=================================================================\n",
            " flatten (Flatten)           (None, 784)               0         \n",
            "                                                                 \n",
            " dense_softmax (Dense)       (None, 10)                7850      \n",
            "                                                                 \n",
            "=================================================================\n",
            "Total params: 7,850\n",
            "Trainable params: 7,850\n",
            "Non-trainable params: 0\n",
            "_________________________________________________________________\n"
          ]
        }
      ],
      "source": [
        "# Create a model prone to add layers sequentially\n",
        "\n",
        "model = Sequential()\n",
        "# flatten the data replaces 28 * 28 matrices by a 784 dimensional vector\n",
        "# This is always necessary before a fully-connected layer (Dense object)\n",
        "model.add(Flatten(input_shape=input_shape, name='flatten'))\n",
        "\n",
        "# add one dense (fully connected layer) with softmax activation function\n",
        "# As it is the first layer, the input size is mandatory\n",
        "model.add(Dense(num_classes, activation='softmax', name='dense_softmax'))\n",
        "\n",
        "# \"compile\" this model, \n",
        "model.compile(\n",
        "    # specify the loss as the cross-entropy\n",
        "    loss=tf.keras.losses.categorical_crossentropy,\n",
        "    # choose the gradient based method to estimate the parameters\n",
        "    # see https://keras.io/optimizers/ to have an overview of the different options\n",
        "    # see also section 2 on gradient based methods.\n",
        "    optimizer=tf.keras.optimizers.Adagrad(),\n",
        "    # metric to monitor on the test data\n",
        "    metrics=['accuracy']\n",
        ")\n",
        "send(\"model\", 4)\n",
        "model.summary()"
      ]
    },
    {
      "cell_type": "markdown",
      "metadata": {
        "id": "KD7LNy_OBzLC"
      },
      "source": [
        "In the following cell, we fit the model"
      ]
    },
    {
      "cell_type": "code",
      "execution_count": 15,
      "metadata": {
        "collapsed": true,
        "id": "Mpm-dGjXBzLD",
        "outputId": "402c7f15-02b3-429a-84b6-e9fffd46e6f9",
        "colab": {
          "base_uri": "https://localhost:8080/"
        }
      },
      "outputs": [
        {
          "output_type": "stream",
          "name": "stdout",
          "text": [
            "Epoch 1/10\n",
            "938/938 [==============================] - 5s 3ms/step - loss: 1.7613 - accuracy: 0.5276 - val_loss: 1.3904 - val_accuracy: 0.7334\n",
            "Epoch 2/10\n",
            "938/938 [==============================] - 2s 2ms/step - loss: 1.2558 - accuracy: 0.7600 - val_loss: 1.1071 - val_accuracy: 0.7948\n",
            "Epoch 3/10\n",
            "938/938 [==============================] - 2s 2ms/step - loss: 1.0535 - accuracy: 0.7969 - val_loss: 0.9601 - val_accuracy: 0.8139\n",
            "Epoch 4/10\n",
            "938/938 [==============================] - 3s 3ms/step - loss: 0.9372 - accuracy: 0.8138 - val_loss: 0.8675 - val_accuracy: 0.8286\n",
            "Epoch 5/10\n",
            "938/938 [==============================] - 3s 3ms/step - loss: 0.8598 - accuracy: 0.8255 - val_loss: 0.8028 - val_accuracy: 0.8374\n",
            "Epoch 6/10\n",
            "938/938 [==============================] - 2s 2ms/step - loss: 0.8036 - accuracy: 0.8324 - val_loss: 0.7544 - val_accuracy: 0.8444\n",
            "Epoch 7/10\n",
            "938/938 [==============================] - 2s 3ms/step - loss: 0.7606 - accuracy: 0.8387 - val_loss: 0.7167 - val_accuracy: 0.8507\n",
            "Epoch 8/10\n",
            "938/938 [==============================] - 2s 2ms/step - loss: 0.7264 - accuracy: 0.8434 - val_loss: 0.6860 - val_accuracy: 0.8551\n",
            "Epoch 9/10\n",
            "938/938 [==============================] - 2s 2ms/step - loss: 0.6982 - accuracy: 0.8475 - val_loss: 0.6606 - val_accuracy: 0.8586\n",
            "Epoch 10/10\n",
            "938/938 [==============================] - 2s 2ms/step - loss: 0.6746 - accuracy: 0.8508 - val_loss: 0.6391 - val_accuracy: 0.8620\n",
            "Test loss: 0.6390530467033386\n",
            "Test accuracy: 0.8619999885559082\n"
          ]
        }
      ],
      "source": [
        "batch_size = 64\n",
        "epochs = 10\n",
        "history = model.fit(x_train, y_train,\n",
        "                    batch_size=batch_size,\n",
        "                    epochs=epochs,\n",
        "                    verbose=1,\n",
        "                    validation_data=(x_test, y_test))\n",
        "score = model.evaluate(x_test, y_test, verbose=0)\n",
        "print('Test loss:', score[0])\n",
        "print('Test accuracy:', score[1])"
      ]
    },
    {
      "cell_type": "code",
      "execution_count": 16,
      "metadata": {
        "collapsed": true,
        "id": "-2E6tCLNBzLD",
        "outputId": "a7919a1e-e61f-40f1-ab27-5defc68296c3",
        "colab": {
          "base_uri": "https://localhost:8080/",
          "height": 387
        }
      },
      "outputs": [
        {
          "output_type": "execute_result",
          "data": {
            "text/plain": [
              "<Response [200]>"
            ]
          },
          "metadata": {},
          "execution_count": 16
        },
        {
          "output_type": "display_data",
          "data": {
            "text/plain": [
              "<Figure size 504x360 with 1 Axes>"
            ],
            "image/png": "[encoded data removed]"
          },
          "metadata": {
            "needs_background": "light"
          }
        }
      ],
      "source": [
        "plt.figure(figsize=(7, 5))\n",
        "plt.plot(history.epoch, history.history['accuracy'], lw=1, label='Train')\n",
        "plt.plot(history.epoch, history.history['val_accuracy'], lw=1, label='Test')\n",
        "plt.legend(fontsize=14)\n",
        "plt.title('Accuracy of softmax regression', fontsize=16)\n",
        "plt.xlabel('Epoch', fontsize=14)\n",
        "plt.ylabel('Accuracy', fontsize=14)\n",
        "plt.tight_layout()\n",
        "send(plt, 5)"
      ]
    },
    {
      "cell_type": "markdown",
      "metadata": {
        "id": "4Kwaa46DBzLD"
      },
      "source": [
        "<strong><font color=darkorange> Q3</font></strong>: What do you think of the accuracy? is it good?"
      ]
    },
    {
      "cell_type": "code",
      "execution_count": 17,
      "metadata": {
        "collapsed": true,
        "id": "c6sH5fEVBzLD",
        "outputId": "b7cf19f5-5cc1-4baa-cab8-a9e2db4c1af4",
        "colab": {
          "base_uri": "https://localhost:8080/",
          "height": 346
        }
      },
      "outputs": [
        {
          "output_type": "display_data",
          "data": {
            "text/plain": [
              "<Figure size 720x360 with 10 Axes>"
            ],
            "image/png": "[encoded data removed]"
          },
          "metadata": {
            "needs_background": "light"
          }
        }
      ],
      "source": [
        "weights, biases = model.get_layer('dense_softmax').get_weights()\n",
        "imgs = weights.reshape(28, 28, 10)\n",
        "\n",
        "fig = plt.figure(figsize=(10, 5))\n",
        "vmin, vmax = imgs.min(), imgs.max()\n",
        "for i in range(10):\n",
        "    ax = plt.subplot(2, 5, i + 1)\n",
        "    im = imgs[:, :, i]\n",
        "    mappable = ax.imshow(im, interpolation=\"nearest\", \n",
        "                         vmin=vmin, vmax=vmax, cmap='bwr')\n",
        "    ax.axis('off')\n",
        "    ax.set_title(\"%i\" % i)\n",
        "plt.tight_layout()"
      ]
    },
    {
      "cell_type": "code",
      "execution_count": 17,
      "metadata": {
        "collapsed": true,
        "id": "lX1oU-BKBzLD"
      },
      "outputs": [],
      "source": [
        ""
      ]
    },
    {
      "cell_type": "markdown",
      "metadata": {
        "id": "Iv7LlG2UBzLD"
      },
      "source": [
        "<strong><font color=darkorange> Q3 bis</font></strong>: What do you think of the weights above? What can you see?"
      ]
    },
    {
      "cell_type": "code",
      "execution_count": 18,
      "metadata": {
        "id": "YyKEdAiIBzLE",
        "outputId": "da8b74a8-216c-4c02-9077-2f28def9a569",
        "colab": {
          "base_uri": "https://localhost:8080/"
        }
      },
      "outputs": [
        {
          "output_type": "execute_result",
          "data": {
            "text/plain": [
              "<Response [200]>"
            ]
          },
          "metadata": {},
          "execution_count": 18
        }
      ],
      "source": [
        "send(\"the weights form ....\",6)"
      ]
    },
    {
      "cell_type": "markdown",
      "metadata": {
        "id": "1MujnIAZBzLE"
      },
      "source": [
        "### <font color=darkred> Feed-Forward Neural Network (FFNN) </font>"
      ]
    },
    {
      "cell_type": "markdown",
      "metadata": {
        "id": "s5DCcskUBzLE"
      },
      "source": [
        "The softmax regression of the previous section is a linear model, with 7850 parameters.  It is easy to fit, numerically stable, but might be too simple for some tasks.  The idea underlying neural networks is to have successive \"neurons\" performing a linear transformation of the input data (depending on a weight matrix and a bia vector) followed by an activation function to design more flexible models with additional parameters."
      ]
    },
    {
      "cell_type": "markdown",
      "metadata": {
        "id": "exNHijmVBzLF"
      },
      "source": [
        "<strong><font color=darkorange> Q4 </font></strong>: Define  a fully connected feed-forward neural network with **one** hidden layer with 128 units and a relu activation function."
      ]
    },
    {
      "cell_type": "code",
      "execution_count": 19,
      "metadata": {
        "collapsed": true,
        "id": "gVCvlXjbBzLF",
        "outputId": "c593d305-9dba-4d1c-d6a3-ece3e5624ed0",
        "colab": {
          "base_uri": "https://localhost:8080/",
          "height": 133
        }
      },
      "outputs": [
        {
          "output_type": "error",
          "ename": "SyntaxError",
          "evalue": "ignored",
          "traceback": [
            "\u001b[0;36m  File \u001b[0;32m\"<ipython-input-19-926a54ab2420>\"\u001b[0;36m, line \u001b[0;32m7\u001b[0m\n\u001b[0;31m    model_ffnn.add(### COMPLETE HERE)\u001b[0m\n\u001b[0m                                     ^\u001b[0m\n\u001b[0;31mSyntaxError\u001b[0m\u001b[0;31m:\u001b[0m unexpected EOF while parsing\n"
          ]
        }
      ],
      "source": [
        "model_ffnn = Sequential()\n",
        "\n",
        "model_ffnn.add(Flatten(input_shape=input_shape))\n",
        "\n",
        "model_ffnn.add(### COMPLETE HERE)\n",
        "\n",
        "model_ffnn.add(### COMPLETE HERE)"
      ]
    },
    {
      "cell_type": "code",
      "execution_count": 19,
      "metadata": {
        "collapsed": true,
        "id": "Rbw7Bc-9BzLF"
      },
      "outputs": [],
      "source": [
        ""
      ]
    },
    {
      "cell_type": "code",
      "execution_count": 19,
      "metadata": {
        "collapsed": true,
        "id": "6apFEp2VBzLF"
      },
      "outputs": [],
      "source": [
        ""
      ]
    },
    {
      "cell_type": "code",
      "execution_count": 19,
      "metadata": {
        "collapsed": true,
        "id": "DcUS4CG0BzLF"
      },
      "outputs": [],
      "source": [
        ""
      ]
    },
    {
      "cell_type": "code",
      "execution_count": 19,
      "metadata": {
        "collapsed": true,
        "id": "mchJ6k1CBzLF"
      },
      "outputs": [],
      "source": [
        ""
      ]
    },
    {
      "cell_type": "code",
      "execution_count": 19,
      "metadata": {
        "collapsed": true,
        "id": "bmqCQDOKBzLF"
      },
      "outputs": [],
      "source": [
        ""
      ]
    },
    {
      "cell_type": "code",
      "execution_count": 19,
      "metadata": {
        "collapsed": true,
        "id": "pA-ddUKUBzLF"
      },
      "outputs": [],
      "source": [
        ""
      ]
    },
    {
      "cell_type": "markdown",
      "metadata": {
        "id": "zb61zGB-BzLF"
      },
      "source": [
        "<strong><font color=darkorange> Solution 4 </font></strong>: Define  a fully connected feed-forward neural network with **one** hidden layer with 128 units and a relu activation function."
      ]
    },
    {
      "cell_type": "code",
      "execution_count": 20,
      "metadata": {
        "collapsed": true,
        "id": "dE0GI6sjBzLG",
        "outputId": "428afd1c-2c8c-4f3b-8739-2b559311f796",
        "colab": {
          "base_uri": "https://localhost:8080/"
        }
      },
      "outputs": [
        {
          "output_type": "execute_result",
          "data": {
            "text/plain": [
              "<Response [200]>"
            ]
          },
          "metadata": {},
          "execution_count": 20
        }
      ],
      "source": [
        "model_ffnn = Sequential()\n",
        "\n",
        "model_ffnn.add(Flatten(input_shape=input_shape))\n",
        "\n",
        "model_ffnn.add(Dense(128, activation='relu'))\n",
        "\n",
        "model_ffnn.add(Dense(num_classes, activation='softmax'))\n",
        "\n",
        "send('model_ffnn', 7)"
      ]
    },
    {
      "cell_type": "markdown",
      "metadata": {
        "id": "VSc-s8ycBzLG"
      },
      "source": [
        "How many parameters are involved in this model ?\n",
        "\n",
        "The input size is 28*28 = 724. \n",
        "\n",
        "This input is transformed linearly in 128 hidden units in the dense layer which lead to 128*784 + 128 = 100480 parameters to obtain the 128 units.\n",
        "\n",
        "These units are transformed in a ``softmax`` activation function which adds 10*128 + 10 = 1290 parameters.\n",
        "\n",
        "This Feed Forward Neural Networks depends on 101770 parameters !"
      ]
    },
    {
      "cell_type": "code",
      "execution_count": 21,
      "metadata": {
        "collapsed": true,
        "id": "kLV3TmO8BzLG",
        "outputId": "01a268f6-383b-468c-8936-5202ba588036",
        "colab": {
          "base_uri": "https://localhost:8080/"
        }
      },
      "outputs": [
        {
          "output_type": "stream",
          "name": "stdout",
          "text": [
            "Model: \"sequential_1\"\n",
            "_________________________________________________________________\n",
            " Layer (type)                Output Shape              Param #   \n",
            "=================================================================\n",
            " flatten (Flatten)           (None, 784)               0         \n",
            "                                                                 \n",
            " dense (Dense)               (None, 128)               100480    \n",
            "                                                                 \n",
            " dense_1 (Dense)             (None, 10)                1290      \n",
            "                                                                 \n",
            "=================================================================\n",
            "Total params: 101,770\n",
            "Trainable params: 101,770\n",
            "Non-trainable params: 0\n",
            "_________________________________________________________________\n"
          ]
        }
      ],
      "source": [
        "model_ffnn.compile(\n",
        "    loss=keras.losses.categorical_crossentropy,\n",
        "    optimizer=tf.keras.optimizers.Adagrad(),\n",
        "    metrics=['accuracy']\n",
        ")\n",
        "\n",
        "model_ffnn.summary()"
      ]
    },
    {
      "cell_type": "code",
      "execution_count": 22,
      "metadata": {
        "collapsed": true,
        "id": "EIOYK3eRBzLG",
        "outputId": "0e93a17e-5bf5-4e3b-ddc9-08700b548e9f",
        "colab": {
          "base_uri": "https://localhost:8080/"
        }
      },
      "outputs": [
        {
          "output_type": "stream",
          "name": "stdout",
          "text": [
            "Epoch 1/10\n",
            "1875/1875 [==============================] - 5s 3ms/step - loss: 1.2275 - accuracy: 0.7143 - val_loss: 0.7218 - val_accuracy: 0.8443\n",
            "Epoch 2/10\n",
            "1875/1875 [==============================] - 5s 2ms/step - loss: 0.6245 - accuracy: 0.8564 - val_loss: 0.5201 - val_accuracy: 0.8781\n",
            "Epoch 3/10\n",
            "1875/1875 [==============================] - 5s 2ms/step - loss: 0.5019 - accuracy: 0.8754 - val_loss: 0.4457 - val_accuracy: 0.8922\n",
            "Epoch 4/10\n",
            "1875/1875 [==============================] - 4s 2ms/step - loss: 0.4460 - accuracy: 0.8858 - val_loss: 0.4057 - val_accuracy: 0.9000\n",
            "Epoch 5/10\n",
            "1875/1875 [==============================] - 5s 2ms/step - loss: 0.4125 - accuracy: 0.8924 - val_loss: 0.3797 - val_accuracy: 0.9038\n",
            "Epoch 6/10\n",
            "1875/1875 [==============================] - 4s 2ms/step - loss: 0.3895 - accuracy: 0.8967 - val_loss: 0.3614 - val_accuracy: 0.9074\n",
            "Epoch 7/10\n",
            "1875/1875 [==============================] - 5s 2ms/step - loss: 0.3723 - accuracy: 0.9004 - val_loss: 0.3477 - val_accuracy: 0.9093\n",
            "Epoch 8/10\n",
            "1875/1875 [==============================] - 5s 2ms/step - loss: 0.3587 - accuracy: 0.9033 - val_loss: 0.3360 - val_accuracy: 0.9123\n",
            "Epoch 9/10\n",
            "1875/1875 [==============================] - 4s 2ms/step - loss: 0.3477 - accuracy: 0.9053 - val_loss: 0.3269 - val_accuracy: 0.9138\n",
            "Epoch 10/10\n",
            "1875/1875 [==============================] - 4s 2ms/step - loss: 0.3383 - accuracy: 0.9076 - val_loss: 0.3192 - val_accuracy: 0.9152\n",
            "Test loss: 0.3191587030887604\n",
            "Test accuracy: 0.9151999950408936\n"
          ]
        }
      ],
      "source": [
        "batch_size = 32\n",
        "epochs = 10\n",
        "\n",
        "# Run the train\n",
        "history = model_ffnn.fit(x_train, y_train,\n",
        "                         batch_size=batch_size,\n",
        "                         epochs=epochs,\n",
        "                         verbose=1,\n",
        "                         validation_data=(x_test, y_test))\n",
        "score = model_ffnn.evaluate(x_test, y_test, verbose=0)\n",
        "print('Test loss:', score[0])\n",
        "print('Test accuracy:', score[1])"
      ]
    },
    {
      "cell_type": "code",
      "execution_count": 23,
      "metadata": {
        "collapsed": true,
        "id": "1i0zgh6NBzLG",
        "outputId": "9b4e2a45-ef25-4526-95ee-12a0cfecfa46",
        "colab": {
          "base_uri": "https://localhost:8080/",
          "height": 387
        }
      },
      "outputs": [
        {
          "output_type": "execute_result",
          "data": {
            "text/plain": [
              "<Response [200]>"
            ]
          },
          "metadata": {},
          "execution_count": 23
        },
        {
          "output_type": "display_data",
          "data": {
            "text/plain": [
              "<Figure size 504x360 with 1 Axes>"
            ],
            "image/png": "[encoded data removed]"
          },
          "metadata": {
            "needs_background": "light"
          }
        }
      ],
      "source": [
        "plt.figure(figsize=(7, 5))\n",
        "plt.plot(history.epoch, history.history['accuracy'], lw=3, label='Training')\n",
        "plt.plot(history.epoch, history.history['val_accuracy'], lw=3, label='Testing')\n",
        "plt.legend(fontsize=14)\n",
        "plt.title('Accuracy of NN with fully connected layers', fontsize=16)\n",
        "plt.xlabel('Epoch', fontsize=14)\n",
        "plt.ylabel('Accuracy', fontsize=14)\n",
        "plt.tight_layout()\n",
        "send(plt, 8)"
      ]
    },
    {
      "cell_type": "markdown",
      "metadata": {
        "id": "DFkNRcjEBzLG"
      },
      "source": [
        "## <font color=darkred> Convolutional Neural Network </font>\n",
        "\n",
        "In practice, increasing the size of hidden layers is not very effective. \n",
        "It is often a better idea to add more layers. \n",
        "Intuitively, if the observations have a hierarchical structure, adding more layers can be interpreted as a way to learn more levels of abstraction.  For example, in object detection tasks, it is easier to express shapes from edges and objects from shapes, than to express objects from pixels.  Thus, a good design should try to exploit this hierarchy.\n",
        "\n",
        "In particular cases, such as grid-like data (time series, images), the observations can depend on a pattern which can be associated with different locations of the data. \n",
        "For example, an object can be in the middle or the left of the picture. \n",
        "Thus, the model has to be translation invariant: it is easier to learn how to recognize an object independently of its location. \n",
        "\n",
        "When two inputs might contain the same kind of information, then it is useful to share their weights and estimate the weights jointly for those inputs to learn statistical invariants (things that don't change much on average across time or space). \n",
        "Using this concept on images leads to convolutional neural networks (CNNs), on text, it results on recurrent neural networks (RNNs).  When using CNNs, weights are set to a small kernel that is used to perform a convolution across the image.\n",
        "\n",
        "In the previous example, the step ``model_ffnn.add(Flatten(input_shape=input_shape))`` destroys the spatial organization of the input but is mandatory before the fully connected step: ``model_ffnn.add(Dense(128, activation='relu'))``. The spatial organization of the input may be preserved before using Flatten by convolution steps such as ``model_cnn.add(Conv2D(32, kernel_size=(3, 3), activation='relu', input_shape=input_shape))``. This layer has 32 outputs, each of which depending on a 3*3 weight matrix.\n",
        "\n",
        "Each output neuron of the next layer is computed as follows (image taken from https://adventuresinmachinelearning.com/convolutional-neural-networks-tutorial-tensorflow/) before computing an elementwise RELU function:\n",
        "<img src=\"https://raw.githubusercontent.com/adieulev/Certificate-DS-2021/main/Labs/conv.PNG\">\n",
        "\n",
        "The convolution maps patches of the input image, combined with the convolution kernel, for example\n",
        "$$\n",
        "\\text{output} = \\text{ReLU}(\\text{patch} \\times W + b)\\,.\n",
        "$$\n",
        "\n",
        "Performing the convolution between the image and the weight matrix consists in moving the kernel across the image, and to produce an output for each patch. The way you move across the image is defined by two parameters:\n",
        "\n",
        "- ``Stride``: the stride is the number of pixels you are shifting each time you move your kernel during the convolution.\n",
        "- ``Padding``: defines what happens when the kernel reaches a border of the image when doing the convolution. \n",
        "\"Valid\" padding means that you stop at the edge, while \"Same\" padding allows to go off the edge and pad with zeros so that the width and the height of the output and input tensors are the same.\n",
        "\n",
        "A classical approach is to use a stride of 1 and to combine theoutputs being in some neighborhood. Such an operation combining elements of a tensor is called ``pooling``: ``model_cnn.add(MaxPooling2D(pool_size=(2, 2)))``. Neighborhoods are define by the pooling window dimension (width x height) and the strides you use when moving this window across the image.  Again, a sliding window is applied along the input to produce the output, the most common function applied on each window being the ma function: it aggregates several outputs in a neighborhood $N$ using a max operation: \n",
        "$$\n",
        "\\text{output}'_i = \\max_{j \\in N}\\text{output}_j, \\quad i \\in N.\n",
        "$$\n",
        "The formulas to compute the size of the ouput tensor are the same as for convolution padding and striding: (image taken from https://adventuresinmachinelearning.com/convolutional-neural-networks-tutorial-tensorflow/):\n",
        "<img src=\"https://raw.githubusercontent.com/adieulev/Certificate-DS-2021/main/Labs/maxpool.PNG\">"
      ]
    },
    {
      "cell_type": "code",
      "execution_count": null,
      "metadata": {
        "collapsed": true,
        "id": "3pvYcggHBzLH"
      },
      "outputs": [],
      "source": [
        ""
      ]
    },
    {
      "cell_type": "markdown",
      "metadata": {
        "id": "nzMOZYR5BzLH"
      },
      "source": [
        "<strong><font color=darkorange> Q5 </font></strong>: Define  a convolutional neural network as described below"
      ]
    },
    {
      "cell_type": "code",
      "execution_count": 30,
      "metadata": {
        "collapsed": true,
        "id": "0z9gnBaMBzLH",
        "outputId": "099499d3-dceb-4d23-c090-7441d196b85f",
        "colab": {
          "base_uri": "https://localhost:8080/",
          "height": 240
        }
      },
      "outputs": [
        {
          "output_type": "error",
          "ename": "AttributeError",
          "evalue": "ignored",
          "traceback": [
            "\u001b[0;31m---------------------------------------------------------------------------\u001b[0m",
            "\u001b[0;31mAttributeError\u001b[0m                            Traceback (most recent call last)",
            "\u001b[0;32m<ipython-input-30-0ee26cfcb569>\u001b[0m in \u001b[0;36m<module>\u001b[0;34m()\u001b[0m\n\u001b[1;32m     15\u001b[0m \u001b[0;34m\u001b[0m\u001b[0m\n\u001b[1;32m     16\u001b[0m model_cnn.compile(loss=keras.losses.categorical_crossentropy,\n\u001b[0;32m---> 17\u001b[0;31m                   \u001b[0moptimizer\u001b[0m\u001b[0;34m=\u001b[0m\u001b[0mkeras\u001b[0m\u001b[0;34m.\u001b[0m\u001b[0moptimizers\u001b[0m\u001b[0;34m.\u001b[0m\u001b[0mAdadelta\u001b[0m\u001b[0;34m(\u001b[0m\u001b[0;34m)\u001b[0m\u001b[0;34m,\u001b[0m\u001b[0;34m\u001b[0m\u001b[0;34m\u001b[0m\u001b[0m\n\u001b[0m\u001b[1;32m     18\u001b[0m                   metrics=['accuracy'])\n\u001b[1;32m     19\u001b[0m \u001b[0;34m\u001b[0m\u001b[0m\n",
            "\u001b[0;31mAttributeError\u001b[0m: module 'keras.optimizers' has no attribute 'Adadelta'"
          ]
        }
      ],
      "source": [
        "### Create the model described below\n",
        "# Convolutional layer with 32 filters and 3 * 3 kernel sizes and 'relu' activation (use the `Conv2D` object)\n",
        "# Convolutional layer with 64 filters and 3 * 3 kernel sizes and 'relu' activation (use the `Conv2D` object)\n",
        "# Max pooling with pool size 2 * 2 (use the `MaxPooling2D` object)\n",
        "# Dropout with probability 0.25 (use the `Dropout` object)\n",
        "# Dense layer with 128 units with relu activation\n",
        "# Dropout with probability 0.5\n",
        "# Dense output layer with softmax activation\n",
        "\n",
        "model_cnn = Sequential()\n",
        "\n",
        "####\n",
        "#TODO\n",
        "####\n",
        "\n",
        "model_cnn.compile(loss=keras.losses.categorical_crossentropy,\n",
        "                  optimizer=keras.optimizers.Adadelta(),\n",
        "                  metrics=['accuracy'])\n",
        "\n",
        "model_cnn.summary()\n",
        "\n",
        "\n",
        "\n"
      ]
    },
    {
      "cell_type": "code",
      "execution_count": null,
      "metadata": {
        "collapsed": true,
        "id": "JMcpDhCBBzLH"
      },
      "outputs": [],
      "source": [
        ""
      ]
    },
    {
      "cell_type": "markdown",
      "metadata": {
        "id": "7IfcjhCMBzLH"
      },
      "source": [
        "<strong><font color=darkorange> Solution 5 </font></strong>: "
      ]
    },
    {
      "cell_type": "code",
      "execution_count": 24,
      "metadata": {
        "collapsed": true,
        "id": "ee5PfR_fBzLH",
        "outputId": "3ef3e0e8-64cf-4c84-f820-62b93931cbdd",
        "colab": {
          "base_uri": "https://localhost:8080/"
        }
      },
      "outputs": [
        {
          "output_type": "stream",
          "name": "stdout",
          "text": [
            "Model: \"sequential_2\"\n",
            "_________________________________________________________________\n",
            " Layer (type)                Output Shape              Param #   \n",
            "=================================================================\n",
            " conv2d (Conv2D)             (None, 26, 26, 32)        320       \n",
            "                                                                 \n",
            " conv2d_1 (Conv2D)           (None, 24, 24, 64)        18496     \n",
            "                                                                 \n",
            " max_pooling2d (MaxPooling2D  (None, 12, 12, 64)       0         \n",
            " )                                                               \n",
            "                                                                 \n",
            " dropout (Dropout)           (None, 12, 12, 64)        0         \n",
            "                                                                 \n",
            " flatten_1 (Flatten)         (None, 9216)              0         \n",
            "                                                                 \n",
            " dense_2 (Dense)             (None, 128)               1179776   \n",
            "                                                                 \n",
            " dropout_1 (Dropout)         (None, 128)               0         \n",
            "                                                                 \n",
            " dense_3 (Dense)             (None, 10)                1290      \n",
            "                                                                 \n",
            "=================================================================\n",
            "Total params: 1,199,882\n",
            "Trainable params: 1,199,882\n",
            "Non-trainable params: 0\n",
            "_________________________________________________________________\n"
          ]
        },
        {
          "output_type": "execute_result",
          "data": {
            "text/plain": [
              "<Response [200]>"
            ]
          },
          "metadata": {},
          "execution_count": 24
        }
      ],
      "source": [
        "# Convolutional layer with 32 filters and 3 * 3 kernel sizes and 'relu' activation (use the `Conv2D` object)\n",
        "# Convolutional layer with 64 filters and 3 * 3 kernel sizes and 'relu' activation (use the `Conv2D` object)\n",
        "# Max pooling with pool size 2 * 2 (use the `MaxPooling2D` object)\n",
        "# Dropout with probability 0.25 (use the `Dropout` object)\n",
        "# Dense layer with 128 units with relu activation\n",
        "# Dropout with probability 0.5\n",
        "# Dense output layer with softmax activation\n",
        "\n",
        "model_cnn = Sequential()\n",
        "\n",
        "model_cnn.add(Conv2D(32, kernel_size=(3, 3), activation='relu', input_shape=input_shape))\n",
        "model_cnn.add(Conv2D(64, kernel_size=(3, 3), activation='relu'))\n",
        "model_cnn.add(MaxPooling2D(pool_size=(2, 2)))\n",
        "model_cnn.add(Dropout(0.1))\n",
        "model_cnn.add(Flatten())\n",
        "model_cnn.add(Dense(128, activation='relu'))\n",
        "model_cnn.add(Dropout(0.1))\n",
        "model_cnn.add(Dense(num_classes, activation='softmax'))\n",
        "\n",
        "model_cnn.compile(loss=keras.losses.categorical_crossentropy,\n",
        "                  optimizer=tf.keras.optimizers.Adadelta(),\n",
        "                  metrics=['accuracy'])\n",
        "\n",
        "model_cnn.summary()\n",
        "send('model_cnn', 9)"
      ]
    },
    {
      "cell_type": "code",
      "execution_count": null,
      "metadata": {
        "collapsed": true,
        "id": "IaUCLGpNBzLI"
      },
      "outputs": [],
      "source": [
        ""
      ]
    },
    {
      "cell_type": "code",
      "execution_count": null,
      "metadata": {
        "collapsed": true,
        "id": "EX-0wX6zBzLI"
      },
      "outputs": [],
      "source": [
        ""
      ]
    },
    {
      "cell_type": "markdown",
      "metadata": {
        "id": "8dn8lAcKBzLI"
      },
      "source": [
        "<strong><font color=darkorange> Q6 </font></strong>:fit the NN over 5 epochs and plot the evolution of  the error"
      ]
    },
    {
      "cell_type": "code",
      "execution_count": null,
      "metadata": {
        "collapsed": true,
        "id": "s5xzlDO0BzLI"
      },
      "outputs": [],
      "source": [
        ""
      ]
    },
    {
      "cell_type": "code",
      "execution_count": null,
      "metadata": {
        "collapsed": true,
        "id": "axSoUKfgBzLI"
      },
      "outputs": [],
      "source": [
        ""
      ]
    },
    {
      "cell_type": "code",
      "execution_count": null,
      "metadata": {
        "collapsed": true,
        "id": "WHvxLbsGBzLI"
      },
      "outputs": [],
      "source": [
        ""
      ]
    },
    {
      "cell_type": "code",
      "execution_count": null,
      "metadata": {
        "collapsed": true,
        "id": "Ie0KLf2WBzLI"
      },
      "outputs": [],
      "source": [
        ""
      ]
    },
    {
      "cell_type": "code",
      "execution_count": null,
      "metadata": {
        "collapsed": true,
        "id": "_ATOoas2BzLI"
      },
      "outputs": [],
      "source": [
        ""
      ]
    },
    {
      "cell_type": "code",
      "execution_count": null,
      "metadata": {
        "collapsed": true,
        "id": "aNiknYgiBzLI"
      },
      "outputs": [],
      "source": [
        ""
      ]
    },
    {
      "cell_type": "markdown",
      "metadata": {
        "id": "2otvcc-jBzLI"
      },
      "source": [
        "<strong><font color=darkorange> Solution 6 </font></strong>:"
      ]
    },
    {
      "cell_type": "code",
      "execution_count": 25,
      "metadata": {
        "collapsed": true,
        "id": "hYA9hgDSBzLI",
        "outputId": "e64b0870-7344-4ab8-dce0-a6e5bc11b8d4",
        "colab": {
          "base_uri": "https://localhost:8080/"
        }
      },
      "outputs": [
        {
          "output_type": "stream",
          "name": "stdout",
          "text": [
            "Epoch 1/5\n",
            "1875/1875 [==============================] - 16s 4ms/step - loss: 2.1622 - accuracy: 0.4179 - val_loss: 1.9569 - val_accuracy: 0.6846\n",
            "Epoch 2/5\n",
            "1875/1875 [==============================] - 7s 4ms/step - loss: 1.6670 - accuracy: 0.6771 - val_loss: 1.2870 - val_accuracy: 0.7806\n",
            "Epoch 3/5\n",
            "1875/1875 [==============================] - 8s 4ms/step - loss: 1.0611 - accuracy: 0.7577 - val_loss: 0.7835 - val_accuracy: 0.8322\n",
            "Epoch 4/5\n",
            "1875/1875 [==============================] - 8s 4ms/step - loss: 0.7359 - accuracy: 0.8047 - val_loss: 0.5739 - val_accuracy: 0.8577\n",
            "Epoch 5/5\n",
            "1875/1875 [==============================] - 8s 4ms/step - loss: 0.5971 - accuracy: 0.8303 - val_loss: 0.4788 - val_accuracy: 0.8731\n",
            "Test loss: 0.47878095507621765\n",
            "Test accuracy: 0.8730999827384949\n"
          ]
        }
      ],
      "source": [
        "batch_size = 32\n",
        "epochs = 5\n",
        "\n",
        "# Run the train\n",
        "history = model_cnn.fit(x_train, y_train,\n",
        "                        batch_size=batch_size,\n",
        "                        epochs=epochs,\n",
        "                        verbose=1,\n",
        "                        validation_data=(x_test, y_test))\n",
        "score = model_cnn.evaluate(x_test, y_test, verbose=0)\n",
        "print('Test loss:', score[0])\n",
        "print('Test accuracy:', score[1])"
      ]
    },
    {
      "cell_type": "code",
      "execution_count": 26,
      "metadata": {
        "collapsed": true,
        "id": "C2Buqe01BzLJ",
        "outputId": "c898ca19-8494-4d9c-c093-6cf9c89e4932",
        "colab": {
          "base_uri": "https://localhost:8080/",
          "height": 387
        }
      },
      "outputs": [
        {
          "output_type": "execute_result",
          "data": {
            "text/plain": [
              "<Response [200]>"
            ]
          },
          "metadata": {},
          "execution_count": 26
        },
        {
          "output_type": "display_data",
          "data": {
            "text/plain": [
              "<Figure size 504x360 with 1 Axes>"
            ],
            "image/png": "[encoded data removed]"
          },
          "metadata": {
            "needs_background": "light"
          }
        }
      ],
      "source": [
        "plt.figure(figsize=(7, 5))\n",
        "plt.plot(history.epoch, history.history['accuracy'], lw=3, label='Training')\n",
        "plt.plot(history.epoch, history.history['val_accuracy'], lw=3, label='Testing')\n",
        "plt.legend(fontsize=14)\n",
        "plt.title('Accuracy of CNN regression', fontsize=16)\n",
        "plt.xlabel('Epoch', fontsize=14)\n",
        "plt.ylabel('Accuracy', fontsize=14)\n",
        "plt.tight_layout()\n",
        "send(plt, 10)"
      ]
    },
    {
      "cell_type": "code",
      "source": [
        ""
      ],
      "metadata": {
        "id": "U43gEuQhGwWf"
      },
      "execution_count": null,
      "outputs": []
    }
  ],
  "metadata": {
    "kernelspec": {
      "display_name": "Python 3",
      "language": "python",
      "name": "python3"
    },
    "language_info": {
      "codemirror_mode": {
        "name": "ipython",
        "version": 3
      },
      "file_extension": ".py",
      "mimetype": "text/x-python",
      "name": "python",
      "nbconvert_exporter": "python",
      "pygments_lexer": "ipython3",
      "version": "3.6.8"
    },
    "colab": {
      "name": "Lab2021-NeuralNetworks-withQ.ipynb",
      "provenance": []
    },
    "accelerator": "GPU"
  },
  "nbformat": 4,
  "nbformat_minor": 0
}