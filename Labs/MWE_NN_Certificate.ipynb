{
  "nbformat": 4,
  "nbformat_minor": 0,
  "metadata": {
    "colab": {
      "provenance": [],
      "gpuType": "T4"
    },
    "kernelspec": {
      "name": "python3",
      "display_name": "Python 3"
    },
    "accelerator": "GPU"
  },
  "cells": [
    {
      "cell_type": "markdown",
      "source": [
        "Lien pour lancer ce notebook sur colab: Lien pour lancer ce notebook sur colab: [link text](https://colab.research.google.com/github/adieulev/Certificate-DS-2023/blob/master/Labs/Lab-NeuralNetworks-withQ.ipynb)"
      ],
      "metadata": {
        "id": "sXu7-eDHTzKg"
      }
    },
    {
      "cell_type": "code",
      "metadata": {
        "id": "zXao5MF2SS0H",
        "colab": {
          "base_uri": "https://localhost:8080/"
        },
        "outputId": "4b2dc5e7-388d-4d7d-ff14-36aa6224c39a"
      },
      "source": [
        "# import tensorflow and keras (tf.keras not \"vanilla\" Keras)\n",
        "import tensorflow as tf\n",
        "from tensorflow import keras\n",
        "# get data\n",
        "(train_images, train_labels), (test_images,\n",
        "                               test_labels) = keras.datasets.mnist.load_data()\n",
        "# setup model\n",
        "model = keras.Sequential([\n",
        "    keras.layers.Flatten(input_shape=(28, 28)),\n",
        "    keras.layers.Dense(128, activation=tf.nn.relu),\n",
        "    keras.layers.Dense(64, activation= tf.nn.relu),\n",
        "    keras.layers.Dense(10, activation=tf.nn.softmax)\n",
        "])\n",
        "\n",
        "model.compile(optimizer=tf.optimizers.Adam(),\n",
        "              loss='sparse_categorical_crossentropy',\n",
        "              metrics=['accuracy'])\n",
        "# train models\n",
        "model.fit(train_images, train_labels, epochs=5)\n",
        "# evaluate\n",
        "test_loss, test_acc = model.evaluate(test_images, test_labels)\n",
        "print('test accuracy:', test_acc)\n",
        "# make predictions\n",
        "predictions = model.predict(test_images)"
      ],
      "execution_count": null,
      "outputs": [
        {
          "output_type": "stream",
          "name": "stdout",
          "text": [
            "Epoch 1/5\n",
            "1875/1875 [==============================] - 6s 3ms/step - loss: 1.5450 - accuracy: 0.8669\n",
            "Epoch 2/5\n",
            "1875/1875 [==============================] - 6s 3ms/step - loss: 0.2851 - accuracy: 0.9290\n",
            "Epoch 3/5\n",
            "1875/1875 [==============================] - 5s 3ms/step - loss: 0.1913 - accuracy: 0.9474\n",
            "Epoch 4/5\n",
            "1875/1875 [==============================] - 6s 3ms/step - loss: 0.1578 - accuracy: 0.9548\n",
            "Epoch 5/5\n",
            "1875/1875 [==============================] - 5s 3ms/step - loss: 0.1373 - accuracy: 0.9607\n",
            "313/313 [==============================] - 1s 2ms/step - loss: 0.1607 - accuracy: 0.9586\n",
            "test accuracy: 0.9585999846458435\n",
            "313/313 [==============================] - 1s 1ms/step\n"
          ]
        }
      ]
    },
    {
      "cell_type": "code",
      "metadata": {
        "id": "IcUIbV6joQ5i",
        "colab": {
          "base_uri": "https://localhost:8080/"
        },
        "outputId": "ee6edc6b-cc23-48f4-d79a-8e7602a3c20c"
      },
      "source": [
        "model.summary()"
      ],
      "execution_count": null,
      "outputs": [
        {
          "output_type": "stream",
          "name": "stdout",
          "text": [
            "Model: \"sequential\"\n",
            "_________________________________________________________________\n",
            " Layer (type)                Output Shape              Param #   \n",
            "=================================================================\n",
            " flatten (Flatten)           (None, 784)               0         \n",
            "                                                                 \n",
            " dense (Dense)               (None, 128)               100480    \n",
            "                                                                 \n",
            " dense_1 (Dense)             (None, 64)                8256      \n",
            "                                                                 \n",
            " dense_2 (Dense)             (None, 10)                650       \n",
            "                                                                 \n",
            "=================================================================\n",
            "Total params: 109,386\n",
            "Trainable params: 109,386\n",
            "Non-trainable params: 0\n",
            "_________________________________________________________________\n"
          ]
        }
      ]
    },
    {
      "cell_type": "code",
      "source": [
        "785*128"
      ],
      "metadata": {
        "colab": {
          "base_uri": "https://localhost:8080/"
        },
        "id": "8P7AFGiqAsYq",
        "outputId": "e5461a4e-99c7-4869-b64e-ccc828a84091"
      },
      "execution_count": null,
      "outputs": [
        {
          "output_type": "execute_result",
          "data": {
            "text/plain": [
              "100480"
            ]
          },
          "metadata": {},
          "execution_count": 2
        }
      ]
    },
    {
      "cell_type": "code",
      "source": [],
      "metadata": {
        "id": "WNMRsvI9RfPC"
      },
      "execution_count": null,
      "outputs": []
    }
  ]
}